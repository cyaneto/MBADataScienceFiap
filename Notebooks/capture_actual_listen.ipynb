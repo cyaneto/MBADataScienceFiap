{
 "cells": [
  {
   "cell_type": "code",
   "execution_count": 1,
   "metadata": {},
   "outputs": [],
   "source": [
    "local = {\n",
    "    \"AzureWebJobsStorage\": \"DefaultEndpointsProtocol=https;AccountName=fiapstorageaccount;AccountKey=kDtweiQcx7bAJMzo44AE5E054OPRFbzIx/O4mYZyOVQRjjWGy5nfi7gafyIk/vTRQsxCz6S/X+3y+AStxfbHWg==;EndpointSuffix=core.windows.net\",\n",
    "    \"FUNCTIONS_WORKER_RUNTIME\": \"python\",\n",
    "    \"COSMOS_NORMAL_ENDPOINT\": \"https://fiap-normal-database.documents.azure.com:443/\",\n",
    "    \"COSMOS_NORMAL_PRIMARYKEY\": \"FpUhmIEBc4hSW2rLsm1xUkrdhdHpPhLGj1uRWFMx2BHzBrcJPr3oRbSDdIFFFQKqZGk4Nloclq2SACDbYIk3BQ==\",\n",
    "    \"COSMOS_NORMAL_DATABASE\": \"musics\",\n",
    "    \"COSMOS_GRAPH_ENDPOINT\": \"https://fiapgraphdatabase.documents.azure.com:443/\",\n",
    "    \"COSMOS_GRAPH_PRIMARYKEY\": \"u7c8yDpUBourU636HhHU3WnJJhMz0mOVk1GzKf6fqfpEsudzgUegTZ3yby6Arbzq2OGdKzcwENm4ACDb2jlygw==\",\n",
    "    \"COSMOS_GRAPH_DATABASE\": \"music_correlations\",\n",
    "    \"SPOTIPY_CLIENT_ID\":\"eb1060ace869470199dfb41aaecca2ab\",\n",
    "    \"SPOTIPY_CLIENT_SECRET\":\"42c96b477c534dbbad9d3e300c64353b\",\n",
    "    \"SPOTIPY_REDIRECT_URI\": \"http://localhost:7071/api/callback_spotify\"\n",
    "  }\n",
    "\n",
    "import os\n",
    "\n",
    "for k,v in local.items():\n",
    "    os.environ[k]=v"
   ]
  },
  {
   "cell_type": "code",
   "execution_count": 19,
   "metadata": {},
   "outputs": [],
   "source": [
    "import spotipy\n",
    "from spotipy.oauth2 import SpotifyOAuth, SpotifyClientCredentials\n",
    "\n",
    "# Set up the Spotify API client\n",
    "\n",
    "scope = \"user-read-currently-playing user-modify-playback-state\"\n",
    "sp = spotipy.Spotify(auth_manager=SpotifyOAuth(scope=scope))\n",
    "\n",
    "# Get what the user is listening now\n",
    "result = sp.current_user_playing_track()\n",
    "\n",
    "#se for uma faixa\n",
    "if result and result['context']['type'] == 'track':    \n",
    "\n",
    "    #salva a ouvida no banco\n",
    "    pass\n"
   ]
  },
  {
   "cell_type": "code",
   "execution_count": 26,
   "metadata": {},
   "outputs": [
    {
     "name": "stdout",
     "output_type": "stream",
     "text": [
      "b''\n"
     ]
    },
    {
     "ename": "JSONDecodeError",
     "evalue": "Expecting value: line 1 column 1 (char 0)",
     "output_type": "error",
     "traceback": [
      "\u001b[1;31m---------------------------------------------------------------------------\u001b[0m",
      "\u001b[1;31mJSONDecodeError\u001b[0m                           Traceback (most recent call last)",
      "File \u001b[1;32mc:\\Python\\Python39\\lib\\site-packages\\requests\\models.py:971\u001b[0m, in \u001b[0;36mResponse.json\u001b[1;34m(self, **kwargs)\u001b[0m\n\u001b[0;32m    970\u001b[0m \u001b[39mtry\u001b[39;00m:\n\u001b[1;32m--> 971\u001b[0m     \u001b[39mreturn\u001b[39;00m complexjson\u001b[39m.\u001b[39mloads(\u001b[39mself\u001b[39m\u001b[39m.\u001b[39mtext, \u001b[39m*\u001b[39m\u001b[39m*\u001b[39mkwargs)\n\u001b[0;32m    972\u001b[0m \u001b[39mexcept\u001b[39;00m JSONDecodeError \u001b[39mas\u001b[39;00m e:\n\u001b[0;32m    973\u001b[0m     \u001b[39m# Catch JSON-related errors and raise as requests.JSONDecodeError\u001b[39;00m\n\u001b[0;32m    974\u001b[0m     \u001b[39m# This aliases json.JSONDecodeError and simplejson.JSONDecodeError\u001b[39;00m\n",
      "File \u001b[1;32mc:\\Python\\Python39\\lib\\json\\__init__.py:346\u001b[0m, in \u001b[0;36mloads\u001b[1;34m(s, cls, object_hook, parse_float, parse_int, parse_constant, object_pairs_hook, **kw)\u001b[0m\n\u001b[0;32m    343\u001b[0m \u001b[39mif\u001b[39;00m (\u001b[39mcls\u001b[39m \u001b[39mis\u001b[39;00m \u001b[39mNone\u001b[39;00m \u001b[39mand\u001b[39;00m object_hook \u001b[39mis\u001b[39;00m \u001b[39mNone\u001b[39;00m \u001b[39mand\u001b[39;00m\n\u001b[0;32m    344\u001b[0m         parse_int \u001b[39mis\u001b[39;00m \u001b[39mNone\u001b[39;00m \u001b[39mand\u001b[39;00m parse_float \u001b[39mis\u001b[39;00m \u001b[39mNone\u001b[39;00m \u001b[39mand\u001b[39;00m\n\u001b[0;32m    345\u001b[0m         parse_constant \u001b[39mis\u001b[39;00m \u001b[39mNone\u001b[39;00m \u001b[39mand\u001b[39;00m object_pairs_hook \u001b[39mis\u001b[39;00m \u001b[39mNone\u001b[39;00m \u001b[39mand\u001b[39;00m \u001b[39mnot\u001b[39;00m kw):\n\u001b[1;32m--> 346\u001b[0m     \u001b[39mreturn\u001b[39;00m _default_decoder\u001b[39m.\u001b[39;49mdecode(s)\n\u001b[0;32m    347\u001b[0m \u001b[39mif\u001b[39;00m \u001b[39mcls\u001b[39m \u001b[39mis\u001b[39;00m \u001b[39mNone\u001b[39;00m:\n",
      "File \u001b[1;32mc:\\Python\\Python39\\lib\\json\\decoder.py:337\u001b[0m, in \u001b[0;36mJSONDecoder.decode\u001b[1;34m(self, s, _w)\u001b[0m\n\u001b[0;32m    333\u001b[0m \u001b[39m\u001b[39m\u001b[39m\"\"\"Return the Python representation of ``s`` (a ``str`` instance\u001b[39;00m\n\u001b[0;32m    334\u001b[0m \u001b[39mcontaining a JSON document).\u001b[39;00m\n\u001b[0;32m    335\u001b[0m \n\u001b[0;32m    336\u001b[0m \u001b[39m\"\"\"\u001b[39;00m\n\u001b[1;32m--> 337\u001b[0m obj, end \u001b[39m=\u001b[39m \u001b[39mself\u001b[39;49m\u001b[39m.\u001b[39;49mraw_decode(s, idx\u001b[39m=\u001b[39;49m_w(s, \u001b[39m0\u001b[39;49m)\u001b[39m.\u001b[39;49mend())\n\u001b[0;32m    338\u001b[0m end \u001b[39m=\u001b[39m _w(s, end)\u001b[39m.\u001b[39mend()\n",
      "File \u001b[1;32mc:\\Python\\Python39\\lib\\json\\decoder.py:355\u001b[0m, in \u001b[0;36mJSONDecoder.raw_decode\u001b[1;34m(self, s, idx)\u001b[0m\n\u001b[0;32m    354\u001b[0m \u001b[39mexcept\u001b[39;00m \u001b[39mStopIteration\u001b[39;00m \u001b[39mas\u001b[39;00m err:\n\u001b[1;32m--> 355\u001b[0m     \u001b[39mraise\u001b[39;00m JSONDecodeError(\u001b[39m\"\u001b[39m\u001b[39mExpecting value\u001b[39m\u001b[39m\"\u001b[39m, s, err\u001b[39m.\u001b[39mvalue) \u001b[39mfrom\u001b[39;00m \u001b[39mNone\u001b[39;00m\n\u001b[0;32m    356\u001b[0m \u001b[39mreturn\u001b[39;00m obj, end\n",
      "\u001b[1;31mJSONDecodeError\u001b[0m: Expecting value: line 1 column 1 (char 0)",
      "\nDuring handling of the above exception, another exception occurred:\n",
      "\u001b[1;31mJSONDecodeError\u001b[0m                           Traceback (most recent call last)",
      "Cell \u001b[1;32mIn[26], line 6\u001b[0m\n\u001b[0;32m      4\u001b[0m \u001b[39mwith\u001b[39;00m post(\u001b[39m'\u001b[39m\u001b[39mhttps://fiapfunctionapp.azurewebsites.net/api/predict_best_next_songs\u001b[39m\u001b[39m'\u001b[39m) \u001b[39mas\u001b[39;00m response:\n\u001b[0;32m      5\u001b[0m     \u001b[39mprint\u001b[39m(response\u001b[39m.\u001b[39mcontent)\n\u001b[1;32m----> 6\u001b[0m     \u001b[39mfor\u001b[39;00m song_id \u001b[39min\u001b[39;00m response\u001b[39m.\u001b[39;49mjson():\n\u001b[0;32m      7\u001b[0m         sp\u001b[39m.\u001b[39madd_to_queue(\u001b[39mf\u001b[39m\u001b[39m'\u001b[39m\u001b[39mspotify:track:\u001b[39m\u001b[39m{\u001b[39;00msong_id\u001b[39m}\u001b[39;00m\u001b[39m'\u001b[39m)\n",
      "File \u001b[1;32mc:\\Python\\Python39\\lib\\site-packages\\requests\\models.py:975\u001b[0m, in \u001b[0;36mResponse.json\u001b[1;34m(self, **kwargs)\u001b[0m\n\u001b[0;32m    971\u001b[0m     \u001b[39mreturn\u001b[39;00m complexjson\u001b[39m.\u001b[39mloads(\u001b[39mself\u001b[39m\u001b[39m.\u001b[39mtext, \u001b[39m*\u001b[39m\u001b[39m*\u001b[39mkwargs)\n\u001b[0;32m    972\u001b[0m \u001b[39mexcept\u001b[39;00m JSONDecodeError \u001b[39mas\u001b[39;00m e:\n\u001b[0;32m    973\u001b[0m     \u001b[39m# Catch JSON-related errors and raise as requests.JSONDecodeError\u001b[39;00m\n\u001b[0;32m    974\u001b[0m     \u001b[39m# This aliases json.JSONDecodeError and simplejson.JSONDecodeError\u001b[39;00m\n\u001b[1;32m--> 975\u001b[0m     \u001b[39mraise\u001b[39;00m RequestsJSONDecodeError(e\u001b[39m.\u001b[39mmsg, e\u001b[39m.\u001b[39mdoc, e\u001b[39m.\u001b[39mpos)\n",
      "\u001b[1;31mJSONDecodeError\u001b[0m: Expecting value: line 1 column 1 (char 0)"
     ]
    }
   ],
   "source": [
    "\n",
    "from requests import post\n",
    "\n",
    "\n",
    "with post('https://fiapfunctionapp.azurewebsites.net/api/predict_best_next_songs') as response:\n",
    "    print(response.content)\n",
    "    for song_id in response.json():\n",
    "        sp.add_to_queue(f'spotify:track:{song_id}')\n"
   ]
  },
  {
   "cell_type": "code",
   "execution_count": 21,
   "metadata": {},
   "outputs": [],
   "source": [
    "for song_id in [\n",
    "\t\"7oAuqs6akGnPU3Tb00ZmyM\",\n",
    "\t\"5Gf4tg1WJOzIw5iiOLBJzF\",\n",
    "\t\"7KA4W4McWYRpgf0fWsJZWB\",\n",
    "\t\"5ZmzzBiEAIVCkgsPyh80gt\",\n",
    "\t\"1QTSmXYIKq5jyz4iYKoxb0\"\n",
    "]:\n",
    "    sp.add_to_queue(f'spotify:track:{song_id}')"
   ]
  },
  {
   "cell_type": "code",
   "execution_count": 15,
   "metadata": {},
   "outputs": [],
   "source": [
    "# adiciona musica a fila \n",
    "sp.add_to_queue('spotify:track:1UmmSKPdCtBuJsmbZG9G3u')\n"
   ]
  },
  {
   "cell_type": "code",
   "execution_count": 10,
   "metadata": {},
   "outputs": [
    {
     "name": "stdout",
     "output_type": "stream",
     "text": [
      "{\"access_token\": \"BQAN5nPk92h-uEjmkyl9oDD4yJWSF37rxI_Vf4hHliL6XY-r38T5-l-_DDcanPsSOlSAnr4igoiE_EMpGqkaCg3Nxq4pDmA67adzpRDKwHfHW9c6xCA3FlVuckQxsICG1lK_5RCHZWtbiovb_xJ9zk5SJ91CST0a2tze3WQYtiSjh-Hv7riYyyxSlGhIVxRZT7iOUZ4L-Rc\", \"token_type\": \"Bearer\", \"expires_in\": 3600, \"refresh_token\": \"AQBDy4pIh5mN7cucwY44t7QtMsdtS2magBqL5DimFjDRzpq6VVL3dPDzLTxNcuu207CD1VBTlCDHr92HggdjbbQM3oxU1_VZVmSEU8JY476DqklsCymxgBmvE9TtVv2pxIs\", \"scope\": \"user-read-currently-playing\", \"expires_at\": 1684805866}\n"
     ]
    },
    {
     "name": "stderr",
     "output_type": "stream",
     "text": [
      "C:\\Users\\netoc\\AppData\\Local\\Temp\\ipykernel_23440\\4187654491.py:2: DeprecationWarning: You're using 'as_dict = True'.get_access_token will return the token string directly in future versions. Please adjust your code accordingly, or use get_cached_token instead.\n",
      "  print(json.dumps(sp.auth_manager.get_access_token()))\n"
     ]
    }
   ],
   "source": [
    "import json\n",
    "print(json.dumps(sp.auth_manager.get_access_token()))"
   ]
  },
  {
   "cell_type": "code",
   "execution_count": null,
   "metadata": {},
   "outputs": [],
   "source": [
    "from requests import post\n",
    "chunk_size=50\n",
    "for chunk in [[d|{'album':d['album']['id']} \n",
    "  |{'artists':d['artists'][0]['id']}\n",
    "  |{'available_markets':''}\n",
    "  |{'external_ids':''}\n",
    "  |{'external_urls':''}\n",
    "   for d in chunk] \n",
    "    for chunk in [song_ids[i:i + chunk_size] \n",
    "        for i in range(0, len(song_ids), chunk_size)]]:\n",
    "    print(len(chunk))\n",
    "    with post('https://fiapfunctionapp.azurewebsites.net/api/songs', json = chunk) as response:\n",
    "        response.raise_for_status()\n",
    "\n",
    "    \n",
    "\n"
   ]
  },
  {
   "cell_type": "code",
   "execution_count": 10,
   "metadata": {},
   "outputs": [
    {
     "ename": "SpotifyOauthError",
     "evalue": "Server listening on localhost has not been accessed",
     "output_type": "error",
     "traceback": [
      "\u001b[1;31m---------------------------------------------------------------------------\u001b[0m",
      "\u001b[1;31mSpotifyOauthError\u001b[0m                         Traceback (most recent call last)",
      "Cell \u001b[1;32mIn[10], line 4\u001b[0m\n\u001b[0;32m      2\u001b[0m sp \u001b[39m=\u001b[39m spotipy\u001b[39m.\u001b[39mSpotify(auth_manager\u001b[39m=\u001b[39mSpotifyOAuth(scope\u001b[39m=\u001b[39mscope))\n\u001b[0;32m      3\u001b[0m \u001b[39m# Get what the user is listening now\u001b[39;00m\n\u001b[1;32m----> 4\u001b[0m result \u001b[39m=\u001b[39m sp\u001b[39m.\u001b[39;49mcurrent_user_playing_track()\n",
      "File \u001b[1;32mc:\\Python\\Python39\\lib\\site-packages\\spotipy\\client.py:1232\u001b[0m, in \u001b[0;36mSpotify.current_user_playing_track\u001b[1;34m(self)\u001b[0m\n\u001b[0;32m   1229\u001b[0m \u001b[39mdef\u001b[39;00m \u001b[39mcurrent_user_playing_track\u001b[39m(\u001b[39mself\u001b[39m):\n\u001b[0;32m   1230\u001b[0m \u001b[39m    \u001b[39m\u001b[39m\"\"\" Get information about the current users currently playing track.\u001b[39;00m\n\u001b[0;32m   1231\u001b[0m \u001b[39m    \"\"\"\u001b[39;00m\n\u001b[1;32m-> 1232\u001b[0m     \u001b[39mreturn\u001b[39;00m \u001b[39mself\u001b[39;49m\u001b[39m.\u001b[39;49m_get(\u001b[39m\"\u001b[39;49m\u001b[39mme/player/currently-playing\u001b[39;49m\u001b[39m\"\u001b[39;49m)\n",
      "File \u001b[1;32mc:\\Python\\Python39\\lib\\site-packages\\spotipy\\client.py:323\u001b[0m, in \u001b[0;36mSpotify._get\u001b[1;34m(self, url, args, payload, **kwargs)\u001b[0m\n\u001b[0;32m    320\u001b[0m \u001b[39mif\u001b[39;00m args:\n\u001b[0;32m    321\u001b[0m     kwargs\u001b[39m.\u001b[39mupdate(args)\n\u001b[1;32m--> 323\u001b[0m \u001b[39mreturn\u001b[39;00m \u001b[39mself\u001b[39;49m\u001b[39m.\u001b[39;49m_internal_call(\u001b[39m\"\u001b[39;49m\u001b[39mGET\u001b[39;49m\u001b[39m\"\u001b[39;49m, url, payload, kwargs)\n",
      "File \u001b[1;32mc:\\Python\\Python39\\lib\\site-packages\\spotipy\\client.py:247\u001b[0m, in \u001b[0;36mSpotify._internal_call\u001b[1;34m(self, method, url, payload, params)\u001b[0m\n\u001b[0;32m    245\u001b[0m \u001b[39mif\u001b[39;00m \u001b[39mnot\u001b[39;00m url\u001b[39m.\u001b[39mstartswith(\u001b[39m\"\u001b[39m\u001b[39mhttp\u001b[39m\u001b[39m\"\u001b[39m):\n\u001b[0;32m    246\u001b[0m     url \u001b[39m=\u001b[39m \u001b[39mself\u001b[39m\u001b[39m.\u001b[39mprefix \u001b[39m+\u001b[39m url\n\u001b[1;32m--> 247\u001b[0m headers \u001b[39m=\u001b[39m \u001b[39mself\u001b[39;49m\u001b[39m.\u001b[39;49m_auth_headers()\n\u001b[0;32m    249\u001b[0m \u001b[39mif\u001b[39;00m \u001b[39m\"\u001b[39m\u001b[39mcontent_type\u001b[39m\u001b[39m\"\u001b[39m \u001b[39min\u001b[39;00m args[\u001b[39m\"\u001b[39m\u001b[39mparams\u001b[39m\u001b[39m\"\u001b[39m]:\n\u001b[0;32m    250\u001b[0m     headers[\u001b[39m\"\u001b[39m\u001b[39mContent-Type\u001b[39m\u001b[39m\"\u001b[39m] \u001b[39m=\u001b[39m args[\u001b[39m\"\u001b[39m\u001b[39mparams\u001b[39m\u001b[39m\"\u001b[39m][\u001b[39m\"\u001b[39m\u001b[39mcontent_type\u001b[39m\u001b[39m\"\u001b[39m]\n",
      "File \u001b[1;32mc:\\Python\\Python39\\lib\\site-packages\\spotipy\\client.py:238\u001b[0m, in \u001b[0;36mSpotify._auth_headers\u001b[1;34m(self)\u001b[0m\n\u001b[0;32m    236\u001b[0m     \u001b[39mreturn\u001b[39;00m {}\n\u001b[0;32m    237\u001b[0m \u001b[39mtry\u001b[39;00m:\n\u001b[1;32m--> 238\u001b[0m     token \u001b[39m=\u001b[39m \u001b[39mself\u001b[39;49m\u001b[39m.\u001b[39;49mauth_manager\u001b[39m.\u001b[39;49mget_access_token(as_dict\u001b[39m=\u001b[39;49m\u001b[39mFalse\u001b[39;49;00m)\n\u001b[0;32m    239\u001b[0m \u001b[39mexcept\u001b[39;00m \u001b[39mTypeError\u001b[39;00m:\n\u001b[0;32m    240\u001b[0m     token \u001b[39m=\u001b[39m \u001b[39mself\u001b[39m\u001b[39m.\u001b[39mauth_manager\u001b[39m.\u001b[39mget_access_token()\n",
      "File \u001b[1;32mc:\\Python\\Python39\\lib\\site-packages\\spotipy\\oauth2.py:535\u001b[0m, in \u001b[0;36mSpotifyOAuth.get_access_token\u001b[1;34m(self, code, as_dict, check_cache)\u001b[0m\n\u001b[0;32m    528\u001b[0m             token_info \u001b[39m=\u001b[39m \u001b[39mself\u001b[39m\u001b[39m.\u001b[39mrefresh_access_token(\n\u001b[0;32m    529\u001b[0m                 token_info[\u001b[39m\"\u001b[39m\u001b[39mrefresh_token\u001b[39m\u001b[39m\"\u001b[39m]\n\u001b[0;32m    530\u001b[0m             )\n\u001b[0;32m    531\u001b[0m         \u001b[39mreturn\u001b[39;00m token_info \u001b[39mif\u001b[39;00m as_dict \u001b[39melse\u001b[39;00m token_info[\u001b[39m\"\u001b[39m\u001b[39maccess_token\u001b[39m\u001b[39m\"\u001b[39m]\n\u001b[0;32m    533\u001b[0m payload \u001b[39m=\u001b[39m {\n\u001b[0;32m    534\u001b[0m     \u001b[39m\"\u001b[39m\u001b[39mredirect_uri\u001b[39m\u001b[39m\"\u001b[39m: \u001b[39mself\u001b[39m\u001b[39m.\u001b[39mredirect_uri,\n\u001b[1;32m--> 535\u001b[0m     \u001b[39m\"\u001b[39m\u001b[39mcode\u001b[39m\u001b[39m\"\u001b[39m: code \u001b[39mor\u001b[39;00m \u001b[39mself\u001b[39;49m\u001b[39m.\u001b[39;49mget_auth_response(),\n\u001b[0;32m    536\u001b[0m     \u001b[39m\"\u001b[39m\u001b[39mgrant_type\u001b[39m\u001b[39m\"\u001b[39m: \u001b[39m\"\u001b[39m\u001b[39mauthorization_code\u001b[39m\u001b[39m\"\u001b[39m,\n\u001b[0;32m    537\u001b[0m }\n\u001b[0;32m    538\u001b[0m \u001b[39mif\u001b[39;00m \u001b[39mself\u001b[39m\u001b[39m.\u001b[39mscope:\n\u001b[0;32m    539\u001b[0m     payload[\u001b[39m\"\u001b[39m\u001b[39mscope\u001b[39m\u001b[39m\"\u001b[39m] \u001b[39m=\u001b[39m \u001b[39mself\u001b[39m\u001b[39m.\u001b[39mscope\n",
      "File \u001b[1;32mc:\\Python\\Python39\\lib\\site-packages\\spotipy\\oauth2.py:490\u001b[0m, in \u001b[0;36mSpotifyOAuth.get_auth_response\u001b[1;34m(self, open_browser)\u001b[0m\n\u001b[0;32m    483\u001b[0m \u001b[39mif\u001b[39;00m (\n\u001b[0;32m    484\u001b[0m         open_browser\n\u001b[0;32m    485\u001b[0m         \u001b[39mand\u001b[39;00m redirect_host \u001b[39min\u001b[39;00m (\u001b[39m\"\u001b[39m\u001b[39m127.0.0.1\u001b[39m\u001b[39m\"\u001b[39m, \u001b[39m\"\u001b[39m\u001b[39mlocalhost\u001b[39m\u001b[39m\"\u001b[39m)\n\u001b[0;32m    486\u001b[0m         \u001b[39mand\u001b[39;00m redirect_info\u001b[39m.\u001b[39mscheme \u001b[39m==\u001b[39m \u001b[39m\"\u001b[39m\u001b[39mhttp\u001b[39m\u001b[39m\"\u001b[39m\n\u001b[0;32m    487\u001b[0m ):\n\u001b[0;32m    488\u001b[0m     \u001b[39m# Only start a local http server if a port is specified\u001b[39;00m\n\u001b[0;32m    489\u001b[0m     \u001b[39mif\u001b[39;00m redirect_port:\n\u001b[1;32m--> 490\u001b[0m         \u001b[39mreturn\u001b[39;00m \u001b[39mself\u001b[39;49m\u001b[39m.\u001b[39;49m_get_auth_response_local_server(redirect_port)\n\u001b[0;32m    491\u001b[0m     \u001b[39melse\u001b[39;00m:\n\u001b[0;32m    492\u001b[0m         logger\u001b[39m.\u001b[39mwarning(\u001b[39m'\u001b[39m\u001b[39mUsing `\u001b[39m\u001b[39m%s\u001b[39;00m\u001b[39m` as redirect URI without a port. \u001b[39m\u001b[39m'\u001b[39m\n\u001b[0;32m    493\u001b[0m                        \u001b[39m'\u001b[39m\u001b[39mSpecify a port (e.g. `\u001b[39m\u001b[39m%s\u001b[39;00m\u001b[39m:8080`) to allow \u001b[39m\u001b[39m'\u001b[39m\n\u001b[0;32m    494\u001b[0m                        \u001b[39m'\u001b[39m\u001b[39mautomatic retrieval of authentication code \u001b[39m\u001b[39m'\u001b[39m\n\u001b[0;32m    495\u001b[0m                        \u001b[39m'\u001b[39m\u001b[39minstead of having to copy and paste \u001b[39m\u001b[39m'\u001b[39m\n\u001b[0;32m    496\u001b[0m                        \u001b[39m'\u001b[39m\u001b[39mthe URL your browser is redirected to.\u001b[39m\u001b[39m'\u001b[39m,\n\u001b[0;32m    497\u001b[0m                        redirect_host, redirect_host)\n",
      "File \u001b[1;32mc:\\Python\\Python39\\lib\\site-packages\\spotipy\\oauth2.py:468\u001b[0m, in \u001b[0;36mSpotifyOAuth._get_auth_response_local_server\u001b[1;34m(self, redirect_port)\u001b[0m\n\u001b[0;32m    466\u001b[0m     \u001b[39mreturn\u001b[39;00m server\u001b[39m.\u001b[39mauth_code\n\u001b[0;32m    467\u001b[0m \u001b[39melse\u001b[39;00m:\n\u001b[1;32m--> 468\u001b[0m     \u001b[39mraise\u001b[39;00m SpotifyOauthError(\u001b[39m\"\u001b[39m\u001b[39mServer listening on localhost has not been accessed\u001b[39m\u001b[39m\"\u001b[39m)\n",
      "\u001b[1;31mSpotifyOauthError\u001b[0m: Server listening on localhost has not been accessed"
     ]
    }
   ],
   "source": [
    "scope = \"user-read-currently-playing playlist-modify-private\"\n",
    "sp = spotipy.Spotify(auth_manager=SpotifyOAuth(scope=scope))\n",
    "# Get what the user is listening now\n",
    "result = sp.current_user_playing_track()"
   ]
  },
  {
   "cell_type": "code",
   "execution_count": 7,
   "metadata": {},
   "outputs": [
    {
     "ename": "NameError",
     "evalue": "name 'result' is not defined",
     "output_type": "error",
     "traceback": [
      "\u001b[1;31m---------------------------------------------------------------------------\u001b[0m",
      "\u001b[1;31mNameError\u001b[0m                                 Traceback (most recent call last)",
      "Cell \u001b[1;32mIn[7], line 1\u001b[0m\n\u001b[1;32m----> 1\u001b[0m result\n",
      "\u001b[1;31mNameError\u001b[0m: name 'result' is not defined"
     ]
    }
   ],
   "source": [
    "result"
   ]
  },
  {
   "attachments": {},
   "cell_type": "markdown",
   "metadata": {},
   "source": [
    "chunk"
   ]
  },
  {
   "cell_type": "code",
   "execution_count": null,
   "metadata": {},
   "outputs": [],
   "source": [
    "[[d|{'album':d['album']['id']} \n",
    "  |{'artists':d['artists'][0]['id']}\n",
    "  |{'available_markets':''}\n",
    "  |{'external_ids':''}\n",
    "  |{'external_urls':''}\n",
    "   for d in chunk] for chunk in [song_ids[i:i + chunk_size] for i in range(0, len(song_ids), chunk_size)]][0]"
   ]
  },
  {
   "cell_type": "code",
   "execution_count": null,
   "metadata": {},
   "outputs": [],
   "source": [
    " sp.current_user_saved_tracks(limit=limit, offset=offset)"
   ]
  },
  {
   "cell_type": "code",
   "execution_count": null,
   "metadata": {},
   "outputs": [],
   "source": [
    "#pega as musicas ouvidas\n",
    "import datetime\n",
    "\n",
    "\n",
    "import spotipy\n",
    "from spotipy.oauth2 import SpotifyOAuth\n",
    "from tqdm import tqdm\n",
    "\n",
    "# Set up the Spotify API client\n",
    "scope = \"user-read-recently-played\"\n",
    "sp = spotipy.Spotify(auth_manager=SpotifyOAuth(scope=scope))\n",
    "\n",
    "# Get the saved tracks from the user's library\n",
    "offset = 0\n",
    "limit = 50  # Maximum number of tracks to retrieve in one request\n",
    "listens  = []\n",
    "\n",
    "# pega o timestam atual\n",
    "current_timestamp = int(datetime.datetime.now().timestamp() * 1000)\n",
    "\n",
    "blocks_before = 24*(31+28+31+30+16)\n",
    "#blocos de 1hr, em milisegundos\n",
    "steps = 1000*60*60\n",
    "\n",
    "#lista de blocos de milisegundos\n",
    "befores = [current_timestamp - (steps *( i)) for i in range(blocks_before)]\n",
    "\n",
    "for timestamp_before in befores:\n",
    "\n",
    "    results = sp.current_user_recently_played(limit=limit, before=timestamp_before)\n",
    "    tracks = results[\"items\"]\n",
    "\n",
    "    listens.extend(results[\"items\"])\n",
    "    \n",
    "    os.system('cls')\n",
    "    print(results)\n",
    "\n"
   ]
  },
  {
   "attachments": {},
   "cell_type": "markdown",
   "metadata": {},
   "source": []
  },
  {
   "cell_type": "code",
   "execution_count": null,
   "metadata": {},
   "outputs": [],
   "source": [
    "\n",
    "\n",
    "listens"
   ]
  },
  {
   "cell_type": "code",
   "execution_count": null,
   "metadata": {},
   "outputs": [],
   "source": [
    "filtered_listens= [{k: v for k,v in l.items() if k in [ 'played_at', 'context']}|{'track_id':l['track']['id']} for l in listens]\n",
    "import pandas as pd\n",
    "pd.DataFrame(filtered_listens).to_csv('Cayro_filtered_listens_20230516.csv',index=False)"
   ]
  },
  {
   "cell_type": "code",
   "execution_count": null,
   "metadata": {},
   "outputs": [],
   "source": [
    "len(filtered_listens)"
   ]
  },
  {
   "cell_type": "code",
   "execution_count": null,
   "metadata": {},
   "outputs": [],
   "source": [
    "befores[-1]"
   ]
  },
  {
   "cell_type": "code",
   "execution_count": null,
   "metadata": {},
   "outputs": [],
   "source": [
    "musics = list(set([f['track']['uri'] for f in listens ]))\n",
    "musics\n"
   ]
  },
  {
   "cell_type": "code",
   "execution_count": null,
   "metadata": {},
   "outputs": [],
   "source": [
    "filtered_listens\n"
   ]
  },
  {
   "cell_type": "code",
   "execution_count": null,
   "metadata": {},
   "outputs": [],
   "source": []
  },
  {
   "cell_type": "code",
   "execution_count": null,
   "metadata": {},
   "outputs": [],
   "source": [
    "(current_timestamp-1684369678768)/1000/60"
   ]
  },
  {
   "cell_type": "code",
   "execution_count": null,
   "metadata": {},
   "outputs": [],
   "source": [
    "1684369678768"
   ]
  },
  {
   "cell_type": "code",
   "execution_count": null,
   "metadata": {},
   "outputs": [],
   "source": []
  }
 ],
 "metadata": {
  "kernelspec": {
   "display_name": "Python 3",
   "language": "python",
   "name": "python3"
  },
  "language_info": {
   "codemirror_mode": {
    "name": "ipython",
    "version": 3
   },
   "file_extension": ".py",
   "mimetype": "text/x-python",
   "name": "python",
   "nbconvert_exporter": "python",
   "pygments_lexer": "ipython3",
   "version": "3.9.13"
  },
  "orig_nbformat": 4
 },
 "nbformat": 4,
 "nbformat_minor": 2
}
