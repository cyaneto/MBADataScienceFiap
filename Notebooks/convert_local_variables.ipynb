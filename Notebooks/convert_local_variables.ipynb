{
 "cells": [
  {
   "cell_type": "code",
   "execution_count": 1,
   "metadata": {},
   "outputs": [],
   "source": [
    "local = {\n",
    "    \"AzureWebJobsStorage\": \"DefaultEndpointsProtocol=https;AccountName=fiapstorageaccount;AccountKey=kDtweiQcx7bAJMzo44AE5E054OPRFbzIx/O4mYZyOVQRjjWGy5nfi7gafyIk/vTRQsxCz6S/X+3y+AStxfbHWg==;EndpointSuffix=core.windows.net\",\n",
    "    \"FUNCTIONS_WORKER_RUNTIME\": \"python\",\n",
    "    \"COSMOS_NORMAL_ENDPOINT\": \"https://fiap-normal-database.documents.azure.com:443/\",\n",
    "    \"COSMOS_NORMAL_PRIMARYKEY\": \"FpUhmIEBc4hSW2rLsm1xUkrdhdHpPhLGj1uRWFMx2BHzBrcJPr3oRbSDdIFFFQKqZGk4Nloclq2SACDbYIk3BQ==\",\n",
    "    \"COSMOS_NORMAL_DATABASE\": \"musics\",\n",
    "    \"COSMOS_GRAPH_ENDPOINT\": \"https://fiapgraphdatabase.documents.azure.com:443/\",\n",
    "    \"COSMOS_GRAPH_PRIMARYKEY\": \"u7c8yDpUBourU636HhHU3WnJJhMz0mOVk1GzKf6fqfpEsudzgUegTZ3yby6Arbzq2OGdKzcwENm4ACDb2jlygw==\",\n",
    "    \"COSMOS_GRAPH_DATABASE\": \"music_correlations\",\n",
    "    \"SPOTFY_CLIENT_ID\":\"eb1060ace869470199dfb41aaecca2ab\",\n",
    "    \"SPOTFY_CLIENT_SECRET\":\"42c96b477c534dbbad9d3e300c64353b\"\n",
    "  }\n"
   ]
  },
  {
   "cell_type": "code",
   "execution_count": 2,
   "metadata": {},
   "outputs": [
    {
     "name": "stdout",
     "output_type": "stream",
     "text": [
      "[\n",
      " {\n",
      "  \"name\": \"AzureWebJobsStorage\",\n",
      "  \"value\": \"DefaultEndpointsProtocol=https;AccountName=fiapstorageaccount;AccountKey=kDtweiQcx7bAJMzo44AE5E054OPRFbzIx/O4mYZyOVQRjjWGy5nfi7gafyIk/vTRQsxCz6S/X+3y+AStxfbHWg==;EndpointSuffix=core.windows.net\",\n",
      "  \"slotSetting\": false\n",
      " },\n",
      " {\n",
      "  \"name\": \"FUNCTIONS_WORKER_RUNTIME\",\n",
      "  \"value\": \"python\",\n",
      "  \"slotSetting\": false\n",
      " },\n",
      " {\n",
      "  \"name\": \"COSMOS_NORMAL_ENDPOINT\",\n",
      "  \"value\": \"https://fiap-normal-database.documents.azure.com:443/\",\n",
      "  \"slotSetting\": false\n",
      " },\n",
      " {\n",
      "  \"name\": \"COSMOS_NORMAL_PRIMARYKEY\",\n",
      "  \"value\": \"FpUhmIEBc4hSW2rLsm1xUkrdhdHpPhLGj1uRWFMx2BHzBrcJPr3oRbSDdIFFFQKqZGk4Nloclq2SACDbYIk3BQ==\",\n",
      "  \"slotSetting\": false\n",
      " },\n",
      " {\n",
      "  \"name\": \"COSMOS_NORMAL_DATABASE\",\n",
      "  \"value\": \"musics\",\n",
      "  \"slotSetting\": false\n",
      " },\n",
      " {\n",
      "  \"name\": \"COSMOS_GRAPH_ENDPOINT\",\n",
      "  \"value\": \"https://fiapgraphdatabase.documents.azure.com:443/\",\n",
      "  \"slotSetting\": false\n",
      " },\n",
      " {\n",
      "  \"name\": \"COSMOS_GRAPH_PRIMARYKEY\",\n",
      "  \"value\": \"u7c8yDpUBourU636HhHU3WnJJhMz0mOVk1GzKf6fqfpEsudzgUegTZ3yby6Arbzq2OGdKzcwENm4ACDb2jlygw==\",\n",
      "  \"slotSetting\": false\n",
      " },\n",
      " {\n",
      "  \"name\": \"COSMOS_GRAPH_DATABASE\",\n",
      "  \"value\": \"music_correlations\",\n",
      "  \"slotSetting\": false\n",
      " },\n",
      " {\n",
      "  \"name\": \"SPOTFY_CLIENT_ID\",\n",
      "  \"value\": \"eb1060ace869470199dfb41aaecca2ab\",\n",
      "  \"slotSetting\": false\n",
      " },\n",
      " {\n",
      "  \"name\": \"SPOTFY_CLIENT_SECRET\",\n",
      "  \"value\": \"42c96b477c534dbbad9d3e300c64353b\",\n",
      "  \"slotSetting\": false\n",
      " }\n",
      "]\n"
     ]
    }
   ],
   "source": [
    "import json\n",
    "print(json.dumps(\n",
    "    [ {\"name\":name,\n",
    "             \"value\":value,\n",
    "             \"slotSetting\": False} for name, value in local.items()], indent=True))"
   ]
  },
  {
   "cell_type": "code",
   "execution_count": 4,
   "metadata": {},
   "outputs": [
    {
     "ename": "SyntaxError",
     "evalue": "invalid syntax (2625544793.py, line 2)",
     "output_type": "error",
     "traceback": [
      "\u001b[1;36m  Cell \u001b[1;32mIn[4], line 2\u001b[1;36m\u001b[0m\n\u001b[1;33m    \"value\":value\u001b[0m\n\u001b[1;37m    ^\u001b[0m\n\u001b[1;31mSyntaxError\u001b[0m\u001b[1;31m:\u001b[0m invalid syntax\n"
     ]
    }
   ],
   "source": [
    " [ {\"name\":name\n",
    "             \"value\":value\n",
    "             \"slotSetting\": False} for name, value in local.items()]"
   ]
  },
  {
   "cell_type": "code",
   "execution_count": null,
   "metadata": {},
   "outputs": [],
   "source": []
  }
 ],
 "metadata": {
  "kernelspec": {
   "display_name": "Python 3",
   "language": "python",
   "name": "python3"
  },
  "language_info": {
   "codemirror_mode": {
    "name": "ipython",
    "version": 3
   },
   "file_extension": ".py",
   "mimetype": "text/x-python",
   "name": "python",
   "nbconvert_exporter": "python",
   "pygments_lexer": "ipython3",
   "version": "3.10.6"
  },
  "orig_nbformat": 4
 },
 "nbformat": 4,
 "nbformat_minor": 2
}
