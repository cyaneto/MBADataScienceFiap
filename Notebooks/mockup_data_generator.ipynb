{
 "cells": [
  {
   "cell_type": "code",
   "execution_count": 12,
   "metadata": {},
   "outputs": [],
   "source": [
    "ufs = ['AC', 'AL', 'AP', 'AM', 'BA', 'CE', 'DF', 'ES', 'GO', 'MA', 'MT', 'MS', 'MG', 'PA', 'PB', 'PR', 'PE', 'PI', 'RJ', 'RN', 'RS', 'RO', 'RR', 'SC', 'SP', 'SE', 'TO']\n",
    "\n",
    "\n",
    "from uuid import uuid4\n",
    "from random import choice, random, randrange, randint\n",
    "from datetime import datetime, timedelta\n",
    "\n",
    "create_user= {\n",
    "    'id': lambda: str(uuid4()),\n",
    "    'uf': lambda : choice(ufs)\n",
    "}\n",
    "\n",
    "users = [{k:v() for k,v in create_user.items()} for i in range(10)]\n",
    "\n",
    "create_music ={\n",
    "    'id':lambda: str(uuid4()),\n",
    "    'artist_uf': lambda : choice(ufs)\n",
    "}\n",
    "\n",
    "musics = [{k:v() for k,v in create_music.items()} for i in range(50)]\n",
    "\n",
    "create_stream={\n",
    "    'id':lambda: str(uuid4()),\n",
    "    'user': lambda : choice(users)['id'],\n",
    "    'music':lambda : choice(musics)['id'],\n",
    "    'datetime': lambda : (datetime.now()- timedelta(seconds= randrange(60*60*24))).strftime('%Y-%m-%dT%H:%M%S')\n",
    "}\n",
    "\n",
    "streams=  [{k:v() for k,v in create_stream.items()} for i in range(500)]\n",
    "\n",
    "create_sequence = {\n",
    "    'id':lambda: str(uuid4()),\n",
    "    'user': lambda : choice(users)['id'],\n",
    "    'previous': lambda : choice(musics)['id'],\n",
    "    'next': lambda : choice(musics)['id'],\n",
    "    'percentage_lisned': lambda: random()*100,\n",
    "}\n",
    "\n",
    "sequences =  [{k:v() for k,v in create_sequence.items()} for i in range(499)]\n",
    "\n",
    "create_playlist = {\n",
    "    'id':lambda: str(uuid4()),\n",
    "    'user': lambda : choice(users)['id'],\n",
    "    'music1': lambda : choice(musics)['id'],\n",
    "    'music2': lambda : choice(musics)['id'],\n",
    "    'distance': lambda: randint(0,20),\n",
    "}\n",
    "\n",
    "playlists =  [{k:v() for k,v in create_playlist.items()} for i in range(100)]\n",
    "\n",
    "\n",
    "create_model = {\n",
    "    \"model_type\": lambda: \"random_forest\",\n",
    "              \"estimators\":lambda: randint(300,500),\n",
    "                \"accuracy\" :lambda:randrange(30,90),\n",
    "                \"precision\" :lambda: random(),\n",
    "                \"mcc\" :  lambda:random(),\n",
    "                \"datetime\":lambda: (datetime.now()- timedelta(days=  random()*7)).strftime('%Y-%m-%dT%H:%M:%S'),\n",
    "               \"id\":lambda: str(uuid4())\n",
    "              }\n",
    "     \n",
    "models = [{k:v() for k,v in create_model.items()} for i in range(8)]"
   ]
  },
  {
   "cell_type": "code",
   "execution_count": 13,
   "metadata": {},
   "outputs": [],
   "source": [
    "import azure.cosmos.cosmos_client as cosmos_client\n",
    "\n",
    "\n",
    "def update_data(config, data):\n",
    "\n",
    "\n",
    "    # Cria um cliente do Cosmos DB\n",
    "    client = cosmos_client.CosmosClient(url=config['ENDPOINT'],credential= {'masterKey': config['PRIMARYKEY']})\n",
    "\n",
    "    # Cria um novo container no banco de dados, caso ele ainda não exista\n",
    "    database = client.get_database_client(config['DATABASE'])\n",
    "    container = database.get_container_client(config['CONTAINER'])\n",
    "\n",
    "    # Insere cada dicionário da lista como uma linha no banco de dados\n",
    "    for record in data:\n",
    "        container.upsert_item(body=record)\n"
   ]
  },
  {
   "cell_type": "code",
   "execution_count": 14,
   "metadata": {},
   "outputs": [],
   "source": [
    "config_musics = {\n",
    "    'ENDPOINT': 'https://fiap-normal-database.documents.azure.com:443/',\n",
    "    'PRIMARYKEY': 'FpUhmIEBc4hSW2rLsm1xUkrdhdHpPhLGj1uRWFMx2BHzBrcJPr3oRbSDdIFFFQKqZGk4Nloclq2SACDbYIk3BQ==',\n",
    "    'DATABASE': 'musics',\n",
    "    'CONTAINER': 'users'\n",
    "}\n",
    "update_data(config_musics|{'CONTAINER':'users'}, users)\n",
    "update_data(config_musics|{'CONTAINER':'songs'}, musics)\n",
    "update_data(config_musics|{'CONTAINER':'listens'}, streams)\n",
    "update_data(config_musics|{'CONTAINER':'models'}, models)\n"
   ]
  },
  {
   "cell_type": "code",
   "execution_count": 20,
   "metadata": {},
   "outputs": [],
   "source": [
    "\n",
    "config_musics = {\n",
    "    'ENDPOINT': 'https://fiapgraphdatabase.documents.azure.com:443/',\n",
    "    'PRIMARYKEY': 'u7c8yDpUBourU636HhHU3WnJJhMz0mOVk1GzKf6fqfpEsudzgUegTZ3yby6Arbzq2OGdKzcwENm4ACDb2jlygw==',\n",
    "    'DATABASE': 'music_correlations'\n",
    "}\n",
    "update_data(config_musics|{'CONTAINER':'playlists'}, playlists)\n",
    "update_data(config_musics|{'CONTAINER':'sequences'}, sequences)\n"
   ]
  },
  {
   "cell_type": "code",
   "execution_count": 28,
   "metadata": {},
   "outputs": [
    {
     "name": "stdout",
     "output_type": "stream",
     "text": [
      "{'success': True, 'message': 'Sucesso ao subir 10 registros para o banco de users'}\n",
      "{'success': True, 'message': 'Sucesso ao subir 50 registros para o banco de songs'}\n",
      "{'success': True, 'message': 'Sucesso ao subir 500 registros para o banco de listens'}\n",
      "{'success': True, 'message': 'Sucesso ao subir 100 registros para o banco de playlists'}\n",
      "{'success': True, 'message': 'Sucesso ao subir 499 registros para o banco de sequences'}\n"
     ]
    }
   ],
   "source": [
    "from requests import post\n",
    "\n",
    "response = post('http://localhost:7071/api/users', json= users)\n",
    "print(response.json())\n",
    "response = post('http://localhost:7071/api/songs', json= musics)\n",
    "print(response.json())\n",
    "response = post('http://localhost:7071/api/listens', json= streams)\n",
    "print(response.json())\n",
    "response = post('http://localhost:7071/api/playlists', json= playlists)\n",
    "print(response.json())\n",
    "response = post('http://localhost:7071/api/sequences', json= sequences)\n",
    "print(response.json())"
   ]
  },
  {
   "cell_type": "code",
   "execution_count": 25,
   "metadata": {},
   "outputs": [
    {
     "name": "stdout",
     "output_type": "stream",
     "text": [
      "30 users\n",
      "100 songs\n",
      "100 playlists\n",
      "499 sequences\n",
      "500 listens\n"
     ]
    }
   ],
   "source": [
    "from requests import get\n",
    "\n",
    "response = get('http://localhost:7071/api/users')\n",
    "print(str(len(response.json()['result'])) + ' users')\n",
    "response = get('http://localhost:7071/api/songs')\n",
    "print(str(len(response.json()['result'])) + ' songs')\n",
    "response = get('http://localhost:7071/api/playlists')\n",
    "print(str(len(response.json()['result'])) + ' playlists')\n",
    "response = get('http://localhost:7071/api/sequences')\n",
    "print(str(len(response.json()['result'])) + ' sequences')\n",
    "response = get('http://localhost:7071/api/listens')\n",
    "print(str(len(response.json()['result'])) + ' listens')"
   ]
  },
  {
   "cell_type": "code",
   "execution_count": 6,
   "metadata": {},
   "outputs": [
    {
     "name": "stderr",
     "output_type": "stream",
     "text": [
      "C:\\Users\\netoc\\AppData\\Local\\Temp\\ipykernel_6140\\4128215132.py:1: DeprecationWarning: randrange() will raise TypeError in the future\n",
      "  randrange(0,0.90)\n"
     ]
    },
    {
     "ename": "ValueError",
     "evalue": "non-integer stop for randrange()",
     "output_type": "error",
     "traceback": [
      "\u001b[1;31m---------------------------------------------------------------------------\u001b[0m",
      "\u001b[1;31mTypeError\u001b[0m                                 Traceback (most recent call last)",
      "File \u001b[1;32mc:\\Python\\Python310\\lib\\random.py:325\u001b[0m, in \u001b[0;36mRandom.randrange\u001b[1;34m(self, start, stop, step)\u001b[0m\n\u001b[0;32m    324\u001b[0m \u001b[39mtry\u001b[39;00m:\n\u001b[1;32m--> 325\u001b[0m     istop \u001b[39m=\u001b[39m _index(stop)\n\u001b[0;32m    326\u001b[0m \u001b[39mexcept\u001b[39;00m \u001b[39mTypeError\u001b[39;00m:\n",
      "\u001b[1;31mTypeError\u001b[0m: 'float' object cannot be interpreted as an integer",
      "\nDuring handling of the above exception, another exception occurred:\n",
      "\u001b[1;31mValueError\u001b[0m                                Traceback (most recent call last)",
      "Cell \u001b[1;32mIn[6], line 1\u001b[0m\n\u001b[1;32m----> 1\u001b[0m randrange(\u001b[39m0\u001b[39;49m,\u001b[39m0.90\u001b[39;49m)\n",
      "File \u001b[1;32mc:\\Python\\Python310\\lib\\random.py:331\u001b[0m, in \u001b[0;36mRandom.randrange\u001b[1;34m(self, start, stop, step)\u001b[0m\n\u001b[0;32m    328\u001b[0m     \u001b[39mif\u001b[39;00m istop \u001b[39m!=\u001b[39m stop:\n\u001b[0;32m    329\u001b[0m         _warn(\u001b[39m'\u001b[39m\u001b[39mrandrange() will raise TypeError in the future\u001b[39m\u001b[39m'\u001b[39m,\n\u001b[0;32m    330\u001b[0m               \u001b[39mDeprecationWarning\u001b[39;00m, \u001b[39m2\u001b[39m)\n\u001b[1;32m--> 331\u001b[0m         \u001b[39mraise\u001b[39;00m \u001b[39mValueError\u001b[39;00m(\u001b[39m\"\u001b[39m\u001b[39mnon-integer stop for randrange()\u001b[39m\u001b[39m\"\u001b[39m)\n\u001b[0;32m    332\u001b[0m     _warn(\u001b[39m'\u001b[39m\u001b[39mnon-integer arguments to randrange() have been deprecated \u001b[39m\u001b[39m'\u001b[39m\n\u001b[0;32m    333\u001b[0m           \u001b[39m'\u001b[39m\u001b[39msince Python 3.10 and will be removed in a subsequent \u001b[39m\u001b[39m'\u001b[39m\n\u001b[0;32m    334\u001b[0m           \u001b[39m'\u001b[39m\u001b[39mversion\u001b[39m\u001b[39m'\u001b[39m,\n\u001b[0;32m    335\u001b[0m           \u001b[39mDeprecationWarning\u001b[39;00m, \u001b[39m2\u001b[39m)\n\u001b[0;32m    336\u001b[0m width \u001b[39m=\u001b[39m istop \u001b[39m-\u001b[39m istart\n",
      "\u001b[1;31mValueError\u001b[0m: non-integer stop for randrange()"
     ]
    }
   ],
   "source": [
    "randrange(0,0.90)"
   ]
  },
  {
   "cell_type": "code",
   "execution_count": 5,
   "metadata": {},
   "outputs": [
    {
     "data": {
      "text/plain": [
       "53"
      ]
     },
     "execution_count": 5,
     "metadata": {},
     "output_type": "execute_result"
    }
   ],
   "source": [
    "randrange(30,90)"
   ]
  },
  {
   "cell_type": "code",
   "execution_count": 17,
   "metadata": {},
   "outputs": [
    {
     "data": {
      "text/plain": [
       "'{\"id\": \"e950a501-e46a-4eed-88be-5967c440967f\", \"user\": \"5e3b7511-4336-453e-8199-a4ec14956742\", \"music\": \"bce99319-a162-4530-8a8c-6a13fbc6fde7\", \"datetime\": \"2023-03-23T11:2206\"}'"
      ]
     },
     "execution_count": 17,
     "metadata": {},
     "output_type": "execute_result"
    }
   ],
   "source": [
    "import json\n",
    "\n",
    "json.dumps(streams[0])"
   ]
  },
  {
   "cell_type": "code",
   "execution_count": 6,
   "metadata": {},
   "outputs": [],
   "source": [
    "\n",
    "from uuid import uuid4\n",
    "from random import choice, random, randrange, randint\n",
    "from datetime import datetime, timedelta\n",
    "import requests\n",
    "from io import StringIO\n",
    "import pandas as pd\n",
    "with requests.get('https://fiapfunctionapp.azurewebsites.net/api/songs') as response:\n",
    "    _data = StringIO(response.content.decode('utf-8'))\n",
    "\n"
   ]
  },
  {
   "cell_type": "code",
   "execution_count": 8,
   "metadata": {},
   "outputs": [
    {
     "ename": "EmptyDataError",
     "evalue": "No columns to parse from file",
     "output_type": "error",
     "traceback": [
      "\u001b[1;31m---------------------------------------------------------------------------\u001b[0m",
      "\u001b[1;31mEmptyDataError\u001b[0m                            Traceback (most recent call last)",
      "Cell \u001b[1;32mIn[8], line 1\u001b[0m\n\u001b[1;32m----> 1\u001b[0m df \u001b[39m=\u001b[39m pd\u001b[39m.\u001b[39;49mread_csv(_data)\n\u001b[0;32m      2\u001b[0m df\n",
      "File \u001b[1;32mc:\\Python\\Python39\\lib\\site-packages\\pandas\\io\\parsers\\readers.py:912\u001b[0m, in \u001b[0;36mread_csv\u001b[1;34m(filepath_or_buffer, sep, delimiter, header, names, index_col, usecols, dtype, engine, converters, true_values, false_values, skipinitialspace, skiprows, skipfooter, nrows, na_values, keep_default_na, na_filter, verbose, skip_blank_lines, parse_dates, infer_datetime_format, keep_date_col, date_parser, date_format, dayfirst, cache_dates, iterator, chunksize, compression, thousands, decimal, lineterminator, quotechar, quoting, doublequote, escapechar, comment, encoding, encoding_errors, dialect, on_bad_lines, delim_whitespace, low_memory, memory_map, float_precision, storage_options, dtype_backend)\u001b[0m\n\u001b[0;32m    899\u001b[0m kwds_defaults \u001b[39m=\u001b[39m _refine_defaults_read(\n\u001b[0;32m    900\u001b[0m     dialect,\n\u001b[0;32m    901\u001b[0m     delimiter,\n\u001b[1;32m   (...)\u001b[0m\n\u001b[0;32m    908\u001b[0m     dtype_backend\u001b[39m=\u001b[39mdtype_backend,\n\u001b[0;32m    909\u001b[0m )\n\u001b[0;32m    910\u001b[0m kwds\u001b[39m.\u001b[39mupdate(kwds_defaults)\n\u001b[1;32m--> 912\u001b[0m \u001b[39mreturn\u001b[39;00m _read(filepath_or_buffer, kwds)\n",
      "File \u001b[1;32mc:\\Python\\Python39\\lib\\site-packages\\pandas\\io\\parsers\\readers.py:577\u001b[0m, in \u001b[0;36m_read\u001b[1;34m(filepath_or_buffer, kwds)\u001b[0m\n\u001b[0;32m    574\u001b[0m _validate_names(kwds\u001b[39m.\u001b[39mget(\u001b[39m\"\u001b[39m\u001b[39mnames\u001b[39m\u001b[39m\"\u001b[39m, \u001b[39mNone\u001b[39;00m))\n\u001b[0;32m    576\u001b[0m \u001b[39m# Create the parser.\u001b[39;00m\n\u001b[1;32m--> 577\u001b[0m parser \u001b[39m=\u001b[39m TextFileReader(filepath_or_buffer, \u001b[39m*\u001b[39m\u001b[39m*\u001b[39mkwds)\n\u001b[0;32m    579\u001b[0m \u001b[39mif\u001b[39;00m chunksize \u001b[39mor\u001b[39;00m iterator:\n\u001b[0;32m    580\u001b[0m     \u001b[39mreturn\u001b[39;00m parser\n",
      "File \u001b[1;32mc:\\Python\\Python39\\lib\\site-packages\\pandas\\io\\parsers\\readers.py:1407\u001b[0m, in \u001b[0;36mTextFileReader.__init__\u001b[1;34m(self, f, engine, **kwds)\u001b[0m\n\u001b[0;32m   1404\u001b[0m     \u001b[39mself\u001b[39m\u001b[39m.\u001b[39moptions[\u001b[39m\"\u001b[39m\u001b[39mhas_index_names\u001b[39m\u001b[39m\"\u001b[39m] \u001b[39m=\u001b[39m kwds[\u001b[39m\"\u001b[39m\u001b[39mhas_index_names\u001b[39m\u001b[39m\"\u001b[39m]\n\u001b[0;32m   1406\u001b[0m \u001b[39mself\u001b[39m\u001b[39m.\u001b[39mhandles: IOHandles \u001b[39m|\u001b[39m \u001b[39mNone\u001b[39;00m \u001b[39m=\u001b[39m \u001b[39mNone\u001b[39;00m\n\u001b[1;32m-> 1407\u001b[0m \u001b[39mself\u001b[39m\u001b[39m.\u001b[39m_engine \u001b[39m=\u001b[39m \u001b[39mself\u001b[39;49m\u001b[39m.\u001b[39;49m_make_engine(f, \u001b[39mself\u001b[39;49m\u001b[39m.\u001b[39;49mengine)\n",
      "File \u001b[1;32mc:\\Python\\Python39\\lib\\site-packages\\pandas\\io\\parsers\\readers.py:1679\u001b[0m, in \u001b[0;36mTextFileReader._make_engine\u001b[1;34m(self, f, engine)\u001b[0m\n\u001b[0;32m   1676\u001b[0m     \u001b[39mraise\u001b[39;00m \u001b[39mValueError\u001b[39;00m(msg)\n\u001b[0;32m   1678\u001b[0m \u001b[39mtry\u001b[39;00m:\n\u001b[1;32m-> 1679\u001b[0m     \u001b[39mreturn\u001b[39;00m mapping[engine](f, \u001b[39m*\u001b[39m\u001b[39m*\u001b[39m\u001b[39mself\u001b[39m\u001b[39m.\u001b[39moptions)\n\u001b[0;32m   1680\u001b[0m \u001b[39mexcept\u001b[39;00m \u001b[39mException\u001b[39;00m:\n\u001b[0;32m   1681\u001b[0m     \u001b[39mif\u001b[39;00m \u001b[39mself\u001b[39m\u001b[39m.\u001b[39mhandles \u001b[39mis\u001b[39;00m \u001b[39mnot\u001b[39;00m \u001b[39mNone\u001b[39;00m:\n",
      "File \u001b[1;32mc:\\Python\\Python39\\lib\\site-packages\\pandas\\io\\parsers\\c_parser_wrapper.py:93\u001b[0m, in \u001b[0;36mCParserWrapper.__init__\u001b[1;34m(self, src, **kwds)\u001b[0m\n\u001b[0;32m     90\u001b[0m \u001b[39mif\u001b[39;00m kwds[\u001b[39m\"\u001b[39m\u001b[39mdtype_backend\u001b[39m\u001b[39m\"\u001b[39m] \u001b[39m==\u001b[39m \u001b[39m\"\u001b[39m\u001b[39mpyarrow\u001b[39m\u001b[39m\"\u001b[39m:\n\u001b[0;32m     91\u001b[0m     \u001b[39m# Fail here loudly instead of in cython after reading\u001b[39;00m\n\u001b[0;32m     92\u001b[0m     import_optional_dependency(\u001b[39m\"\u001b[39m\u001b[39mpyarrow\u001b[39m\u001b[39m\"\u001b[39m)\n\u001b[1;32m---> 93\u001b[0m \u001b[39mself\u001b[39m\u001b[39m.\u001b[39m_reader \u001b[39m=\u001b[39m parsers\u001b[39m.\u001b[39mTextReader(src, \u001b[39m*\u001b[39m\u001b[39m*\u001b[39mkwds)\n\u001b[0;32m     95\u001b[0m \u001b[39mself\u001b[39m\u001b[39m.\u001b[39munnamed_cols \u001b[39m=\u001b[39m \u001b[39mself\u001b[39m\u001b[39m.\u001b[39m_reader\u001b[39m.\u001b[39munnamed_cols\n\u001b[0;32m     97\u001b[0m \u001b[39m# error: Cannot determine type of 'names'\u001b[39;00m\n",
      "File \u001b[1;32mc:\\Python\\Python39\\lib\\site-packages\\pandas\\_libs\\parsers.pyx:555\u001b[0m, in \u001b[0;36mpandas._libs.parsers.TextReader.__cinit__\u001b[1;34m()\u001b[0m\n",
      "\u001b[1;31mEmptyDataError\u001b[0m: No columns to parse from file"
     ]
    }
   ],
   "source": [
    "df = pd.read_csv(_data)"
   ]
  },
  {
   "cell_type": "code",
   "execution_count": 13,
   "metadata": {},
   "outputs": [],
   "source": [
    "musics_id = list(df[df.id.apply(lambda s: '-' not in s)].id)"
   ]
  },
  {
   "cell_type": "code",
   "execution_count": 17,
   "metadata": {},
   "outputs": [],
   "source": [
    "create_stream={\n",
    "    'id':lambda: str(uuid4()),\n",
    "    'user': lambda : \"5e3b7511-4336-453e-8199-a4ec14956742\",\n",
    "    'music':lambda : choice(musics_id),\n",
    "    'datetime': lambda : (datetime.now()- timedelta(seconds= randrange(60*60*24*30))).strftime('%Y-%m-%dT%H:%M:%S')\n",
    "}\n",
    "\n",
    "streams=  [{k:v() for k,v in create_stream.items()} for i in range(500)]"
   ]
  },
  {
   "cell_type": "code",
   "execution_count": 19,
   "metadata": {},
   "outputs": [
    {
     "data": {
      "text/plain": [
       "<Response [200]>"
      ]
     },
     "execution_count": 19,
     "metadata": {},
     "output_type": "execute_result"
    }
   ],
   "source": [
    "requests.post('https://fiapfunctionapp.azurewebsites.net/api/listens',json=streams)"
   ]
  },
  {
   "cell_type": "code",
   "execution_count": null,
   "metadata": {},
   "outputs": [],
   "source": []
  }
 ],
 "metadata": {
  "kernelspec": {
   "display_name": "Python 3",
   "language": "python",
   "name": "python3"
  },
  "language_info": {
   "codemirror_mode": {
    "name": "ipython",
    "version": 3
   },
   "file_extension": ".py",
   "mimetype": "text/x-python",
   "name": "python",
   "nbconvert_exporter": "python",
   "pygments_lexer": "ipython3",
   "version": "3.9.13"
  },
  "orig_nbformat": 4
 },
 "nbformat": 4,
 "nbformat_minor": 2
}
