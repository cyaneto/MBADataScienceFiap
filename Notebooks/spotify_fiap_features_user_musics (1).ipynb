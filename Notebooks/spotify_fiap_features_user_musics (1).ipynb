{
 "cells": [
  {
   "cell_type": "code",
   "execution_count": 1,
   "id": "f9c6e439",
   "metadata": {},
   "outputs": [],
   "source": [
    "import json\n",
    "import pandas as pd\n",
    "import spotipy\n",
    "from spotipy.oauth2 import SpotifyOAuth\n",
    "from datetime import datetime"
   ]
  },
  {
   "cell_type": "code",
   "execution_count": 2,
   "id": "3d93330e",
   "metadata": {},
   "outputs": [
    {
     "ename": "FileNotFoundError",
     "evalue": "[Errno 2] No such file or directory: 'teste_users_musicas.csv'",
     "output_type": "error",
     "traceback": [
      "\u001b[1;31m---------------------------------------------------------------------------\u001b[0m",
      "\u001b[1;31mFileNotFoundError\u001b[0m                         Traceback (most recent call last)",
      "Cell \u001b[1;32mIn[2], line 2\u001b[0m\n\u001b[0;32m      1\u001b[0m \u001b[39m# Lendo a planilha com dados de quais múscias os users ouviram\u001b[39;00m\n\u001b[1;32m----> 2\u001b[0m df_spotify_dataset_users_tracks \u001b[39m=\u001b[39m pd\u001b[39m.\u001b[39;49mread_csv(\u001b[39m'\u001b[39;49m\u001b[39mteste_users_musicas.csv\u001b[39;49m\u001b[39m'\u001b[39;49m, on_bad_lines\u001b[39m=\u001b[39;49m\u001b[39m'\u001b[39;49m\u001b[39mskip\u001b[39;49m\u001b[39m'\u001b[39;49m)\n\u001b[0;32m      4\u001b[0m id_user \u001b[39m=\u001b[39m \u001b[39m\"\u001b[39m\u001b[39m156fd148c44f2bce755b09bf95985ee8\u001b[39m\u001b[39m\"\u001b[39m\n\u001b[0;32m      6\u001b[0m \u001b[39m# Busco somente para o Id específico do user\u001b[39;00m\n",
      "File \u001b[1;32mc:\\Python\\Python310\\lib\\site-packages\\pandas\\util\\_decorators.py:211\u001b[0m, in \u001b[0;36mdeprecate_kwarg.<locals>._deprecate_kwarg.<locals>.wrapper\u001b[1;34m(*args, **kwargs)\u001b[0m\n\u001b[0;32m    209\u001b[0m     \u001b[39melse\u001b[39;00m:\n\u001b[0;32m    210\u001b[0m         kwargs[new_arg_name] \u001b[39m=\u001b[39m new_arg_value\n\u001b[1;32m--> 211\u001b[0m \u001b[39mreturn\u001b[39;00m func(\u001b[39m*\u001b[39margs, \u001b[39m*\u001b[39m\u001b[39m*\u001b[39mkwargs)\n",
      "File \u001b[1;32mc:\\Python\\Python310\\lib\\site-packages\\pandas\\util\\_decorators.py:331\u001b[0m, in \u001b[0;36mdeprecate_nonkeyword_arguments.<locals>.decorate.<locals>.wrapper\u001b[1;34m(*args, **kwargs)\u001b[0m\n\u001b[0;32m    325\u001b[0m \u001b[39mif\u001b[39;00m \u001b[39mlen\u001b[39m(args) \u001b[39m>\u001b[39m num_allow_args:\n\u001b[0;32m    326\u001b[0m     warnings\u001b[39m.\u001b[39mwarn(\n\u001b[0;32m    327\u001b[0m         msg\u001b[39m.\u001b[39mformat(arguments\u001b[39m=\u001b[39m_format_argument_list(allow_args)),\n\u001b[0;32m    328\u001b[0m         \u001b[39mFutureWarning\u001b[39;00m,\n\u001b[0;32m    329\u001b[0m         stacklevel\u001b[39m=\u001b[39mfind_stack_level(),\n\u001b[0;32m    330\u001b[0m     )\n\u001b[1;32m--> 331\u001b[0m \u001b[39mreturn\u001b[39;00m func(\u001b[39m*\u001b[39margs, \u001b[39m*\u001b[39m\u001b[39m*\u001b[39mkwargs)\n",
      "File \u001b[1;32mc:\\Python\\Python310\\lib\\site-packages\\pandas\\io\\parsers\\readers.py:950\u001b[0m, in \u001b[0;36mread_csv\u001b[1;34m(filepath_or_buffer, sep, delimiter, header, names, index_col, usecols, squeeze, prefix, mangle_dupe_cols, dtype, engine, converters, true_values, false_values, skipinitialspace, skiprows, skipfooter, nrows, na_values, keep_default_na, na_filter, verbose, skip_blank_lines, parse_dates, infer_datetime_format, keep_date_col, date_parser, dayfirst, cache_dates, iterator, chunksize, compression, thousands, decimal, lineterminator, quotechar, quoting, doublequote, escapechar, comment, encoding, encoding_errors, dialect, error_bad_lines, warn_bad_lines, on_bad_lines, delim_whitespace, low_memory, memory_map, float_precision, storage_options)\u001b[0m\n\u001b[0;32m    935\u001b[0m kwds_defaults \u001b[39m=\u001b[39m _refine_defaults_read(\n\u001b[0;32m    936\u001b[0m     dialect,\n\u001b[0;32m    937\u001b[0m     delimiter,\n\u001b[1;32m   (...)\u001b[0m\n\u001b[0;32m    946\u001b[0m     defaults\u001b[39m=\u001b[39m{\u001b[39m\"\u001b[39m\u001b[39mdelimiter\u001b[39m\u001b[39m\"\u001b[39m: \u001b[39m\"\u001b[39m\u001b[39m,\u001b[39m\u001b[39m\"\u001b[39m},\n\u001b[0;32m    947\u001b[0m )\n\u001b[0;32m    948\u001b[0m kwds\u001b[39m.\u001b[39mupdate(kwds_defaults)\n\u001b[1;32m--> 950\u001b[0m \u001b[39mreturn\u001b[39;00m _read(filepath_or_buffer, kwds)\n",
      "File \u001b[1;32mc:\\Python\\Python310\\lib\\site-packages\\pandas\\io\\parsers\\readers.py:605\u001b[0m, in \u001b[0;36m_read\u001b[1;34m(filepath_or_buffer, kwds)\u001b[0m\n\u001b[0;32m    602\u001b[0m _validate_names(kwds\u001b[39m.\u001b[39mget(\u001b[39m\"\u001b[39m\u001b[39mnames\u001b[39m\u001b[39m\"\u001b[39m, \u001b[39mNone\u001b[39;00m))\n\u001b[0;32m    604\u001b[0m \u001b[39m# Create the parser.\u001b[39;00m\n\u001b[1;32m--> 605\u001b[0m parser \u001b[39m=\u001b[39m TextFileReader(filepath_or_buffer, \u001b[39m*\u001b[39m\u001b[39m*\u001b[39mkwds)\n\u001b[0;32m    607\u001b[0m \u001b[39mif\u001b[39;00m chunksize \u001b[39mor\u001b[39;00m iterator:\n\u001b[0;32m    608\u001b[0m     \u001b[39mreturn\u001b[39;00m parser\n",
      "File \u001b[1;32mc:\\Python\\Python310\\lib\\site-packages\\pandas\\io\\parsers\\readers.py:1442\u001b[0m, in \u001b[0;36mTextFileReader.__init__\u001b[1;34m(self, f, engine, **kwds)\u001b[0m\n\u001b[0;32m   1439\u001b[0m     \u001b[39mself\u001b[39m\u001b[39m.\u001b[39moptions[\u001b[39m\"\u001b[39m\u001b[39mhas_index_names\u001b[39m\u001b[39m\"\u001b[39m] \u001b[39m=\u001b[39m kwds[\u001b[39m\"\u001b[39m\u001b[39mhas_index_names\u001b[39m\u001b[39m\"\u001b[39m]\n\u001b[0;32m   1441\u001b[0m \u001b[39mself\u001b[39m\u001b[39m.\u001b[39mhandles: IOHandles \u001b[39m|\u001b[39m \u001b[39mNone\u001b[39;00m \u001b[39m=\u001b[39m \u001b[39mNone\u001b[39;00m\n\u001b[1;32m-> 1442\u001b[0m \u001b[39mself\u001b[39m\u001b[39m.\u001b[39m_engine \u001b[39m=\u001b[39m \u001b[39mself\u001b[39;49m\u001b[39m.\u001b[39;49m_make_engine(f, \u001b[39mself\u001b[39;49m\u001b[39m.\u001b[39;49mengine)\n",
      "File \u001b[1;32mc:\\Python\\Python310\\lib\\site-packages\\pandas\\io\\parsers\\readers.py:1735\u001b[0m, in \u001b[0;36mTextFileReader._make_engine\u001b[1;34m(self, f, engine)\u001b[0m\n\u001b[0;32m   1733\u001b[0m     \u001b[39mif\u001b[39;00m \u001b[39m\"\u001b[39m\u001b[39mb\u001b[39m\u001b[39m\"\u001b[39m \u001b[39mnot\u001b[39;00m \u001b[39min\u001b[39;00m mode:\n\u001b[0;32m   1734\u001b[0m         mode \u001b[39m+\u001b[39m\u001b[39m=\u001b[39m \u001b[39m\"\u001b[39m\u001b[39mb\u001b[39m\u001b[39m\"\u001b[39m\n\u001b[1;32m-> 1735\u001b[0m \u001b[39mself\u001b[39m\u001b[39m.\u001b[39mhandles \u001b[39m=\u001b[39m get_handle(\n\u001b[0;32m   1736\u001b[0m     f,\n\u001b[0;32m   1737\u001b[0m     mode,\n\u001b[0;32m   1738\u001b[0m     encoding\u001b[39m=\u001b[39;49m\u001b[39mself\u001b[39;49m\u001b[39m.\u001b[39;49moptions\u001b[39m.\u001b[39;49mget(\u001b[39m\"\u001b[39;49m\u001b[39mencoding\u001b[39;49m\u001b[39m\"\u001b[39;49m, \u001b[39mNone\u001b[39;49;00m),\n\u001b[0;32m   1739\u001b[0m     compression\u001b[39m=\u001b[39;49m\u001b[39mself\u001b[39;49m\u001b[39m.\u001b[39;49moptions\u001b[39m.\u001b[39;49mget(\u001b[39m\"\u001b[39;49m\u001b[39mcompression\u001b[39;49m\u001b[39m\"\u001b[39;49m, \u001b[39mNone\u001b[39;49;00m),\n\u001b[0;32m   1740\u001b[0m     memory_map\u001b[39m=\u001b[39;49m\u001b[39mself\u001b[39;49m\u001b[39m.\u001b[39;49moptions\u001b[39m.\u001b[39;49mget(\u001b[39m\"\u001b[39;49m\u001b[39mmemory_map\u001b[39;49m\u001b[39m\"\u001b[39;49m, \u001b[39mFalse\u001b[39;49;00m),\n\u001b[0;32m   1741\u001b[0m     is_text\u001b[39m=\u001b[39;49mis_text,\n\u001b[0;32m   1742\u001b[0m     errors\u001b[39m=\u001b[39;49m\u001b[39mself\u001b[39;49m\u001b[39m.\u001b[39;49moptions\u001b[39m.\u001b[39;49mget(\u001b[39m\"\u001b[39;49m\u001b[39mencoding_errors\u001b[39;49m\u001b[39m\"\u001b[39;49m, \u001b[39m\"\u001b[39;49m\u001b[39mstrict\u001b[39;49m\u001b[39m\"\u001b[39;49m),\n\u001b[0;32m   1743\u001b[0m     storage_options\u001b[39m=\u001b[39;49m\u001b[39mself\u001b[39;49m\u001b[39m.\u001b[39;49moptions\u001b[39m.\u001b[39;49mget(\u001b[39m\"\u001b[39;49m\u001b[39mstorage_options\u001b[39;49m\u001b[39m\"\u001b[39;49m, \u001b[39mNone\u001b[39;49;00m),\n\u001b[0;32m   1744\u001b[0m )\n\u001b[0;32m   1745\u001b[0m \u001b[39massert\u001b[39;00m \u001b[39mself\u001b[39m\u001b[39m.\u001b[39mhandles \u001b[39mis\u001b[39;00m \u001b[39mnot\u001b[39;00m \u001b[39mNone\u001b[39;00m\n\u001b[0;32m   1746\u001b[0m f \u001b[39m=\u001b[39m \u001b[39mself\u001b[39m\u001b[39m.\u001b[39mhandles\u001b[39m.\u001b[39mhandle\n",
      "File \u001b[1;32mc:\\Python\\Python310\\lib\\site-packages\\pandas\\io\\common.py:856\u001b[0m, in \u001b[0;36mget_handle\u001b[1;34m(path_or_buf, mode, encoding, compression, memory_map, is_text, errors, storage_options)\u001b[0m\n\u001b[0;32m    851\u001b[0m \u001b[39melif\u001b[39;00m \u001b[39misinstance\u001b[39m(handle, \u001b[39mstr\u001b[39m):\n\u001b[0;32m    852\u001b[0m     \u001b[39m# Check whether the filename is to be opened in binary mode.\u001b[39;00m\n\u001b[0;32m    853\u001b[0m     \u001b[39m# Binary mode does not support 'encoding' and 'newline'.\u001b[39;00m\n\u001b[0;32m    854\u001b[0m     \u001b[39mif\u001b[39;00m ioargs\u001b[39m.\u001b[39mencoding \u001b[39mand\u001b[39;00m \u001b[39m\"\u001b[39m\u001b[39mb\u001b[39m\u001b[39m\"\u001b[39m \u001b[39mnot\u001b[39;00m \u001b[39min\u001b[39;00m ioargs\u001b[39m.\u001b[39mmode:\n\u001b[0;32m    855\u001b[0m         \u001b[39m# Encoding\u001b[39;00m\n\u001b[1;32m--> 856\u001b[0m         handle \u001b[39m=\u001b[39m \u001b[39mopen\u001b[39;49m(\n\u001b[0;32m    857\u001b[0m             handle,\n\u001b[0;32m    858\u001b[0m             ioargs\u001b[39m.\u001b[39;49mmode,\n\u001b[0;32m    859\u001b[0m             encoding\u001b[39m=\u001b[39;49mioargs\u001b[39m.\u001b[39;49mencoding,\n\u001b[0;32m    860\u001b[0m             errors\u001b[39m=\u001b[39;49merrors,\n\u001b[0;32m    861\u001b[0m             newline\u001b[39m=\u001b[39;49m\u001b[39m\"\u001b[39;49m\u001b[39m\"\u001b[39;49m,\n\u001b[0;32m    862\u001b[0m         )\n\u001b[0;32m    863\u001b[0m     \u001b[39melse\u001b[39;00m:\n\u001b[0;32m    864\u001b[0m         \u001b[39m# Binary mode\u001b[39;00m\n\u001b[0;32m    865\u001b[0m         handle \u001b[39m=\u001b[39m \u001b[39mopen\u001b[39m(handle, ioargs\u001b[39m.\u001b[39mmode)\n",
      "\u001b[1;31mFileNotFoundError\u001b[0m: [Errno 2] No such file or directory: 'teste_users_musicas.csv'"
     ]
    }
   ],
   "source": [
    "# Lendo a planilha com dados de quais múscias os users ouviram\n",
    "df_spotify_dataset_users_tracks = pd.read_csv('teste_users_musicas.csv', on_bad_lines='skip')\n",
    "\n",
    "id_user = \"156fd148c44f2bce755b09bf95985ee8\"\n",
    "\n",
    "# Busco somente para o Id específico do user\n",
    "df_spotify_dataset_users_tracks_result = pd.DataFrame() \n",
    "df_spotify_dataset_users_tracks_result = df_spotify_dataset_users_tracks[df_spotify_dataset_users_tracks[\"user_id\"] == id_user]"
   ]
  },
  {
   "cell_type": "code",
   "execution_count": 57,
   "id": "75457d61",
   "metadata": {},
   "outputs": [],
   "source": [
    "sp  =  spotipy . Spotify ( auth_manager = SpotifyOAuth ( client_id = \"d4edee49f3bd4308abf47688c31c771f\" , \n",
    "                                               client_secret = \"755d9d8f7bc84df1a95760bf490a5dfb\" , \n",
    "                                               redirect_uri = \"http://localhost:6060\" , \n",
    "                                               scope = \"user-library-read\" ))"
   ]
  },
  {
   "cell_type": "code",
   "execution_count": 58,
   "id": "c0b867e0",
   "metadata": {},
   "outputs": [
    {
     "name": "stdout",
     "output_type": "stream",
     "text": [
      "0WZVGXO8FYpK8v1IDxlOyE\n",
      "00cxhG668jV6gU6VK2FUVI\n",
      "4eDYMhIin1pSLIG96f1aD0\n",
      "40qjDdULzkFRlivTqTggLH\n",
      "2SHnUyZq0zwmvRIl4WY77G\n",
      "2sduRP2wX0dG7waoyGPOGf\n",
      "1xMLthTaWJieT9YGV1hyS5\n",
      "1gNDbq3ufi6VZJJuQWJiPe\n",
      "1u6LOWtdWA2wwa3CryIBsS\n",
      "2ee46eHIDrDT28dQWAhr21\n",
      "5FU5b1b0hVR016VdeJcYRd\n",
      "0yrKF6Fj0dxkltqmBMvcQU\n",
      "6PtXobrqImYfnpIxNsJApa\n",
      "6VRhkROS2SZHGlp0pxndbJ\n",
      "640AR2YmgcKoJpaqTnCE4R\n",
      "22DnBQIIXFPJNRGuNjWlSg\n",
      "1SOfxwVz2KBMzatpfTHqIR\n",
      "3BHXrvIfVQwyjwOccHlyN7\n",
      "5PZI5xTcMq8FsCcEroth7S\n",
      "7xQYVjs4wZNdCwO0EeAWMC\n",
      "6fdHO3OJsu1Lwq0XSFmVCk\n",
      "1trC8L8YpawkU553ymy2zC\n",
      "4BSWjP0LLUv6rTBsUgjHUG\n",
      "18zQdV6BhfeoVU4OLnEO7p\n",
      "2Tz46GlN7rb3xs2JHKJstD\n",
      "4wtR6HB3XekEengMX17cpc\n",
      "5DKHdWT3u5mOu3dm8A8P1V\n",
      "60wwxj6Dd9NJlirf84wr2c\n",
      "3bxtgzAeAZPdRtKoPL5GG2\n",
      "2ToIksTPpJ4csKPEOdUEyM\n",
      "3Tcs2zdJsXSSFxO6liZbkS\n",
      "5faJXkNwcNiY7qsIliiAfy\n",
      "7pqgMEKsDMOHUdFQ7n0N9K\n",
      "6YKnt1usFogwmxS6hYc5Jd\n",
      "1gEfBDVdhmcDtV1LPQazkN\n",
      "2VEZx7NWsZ1D0eJ4uv5Fym\n",
      "5aPjlZVzYFxXzO6VN9XzeL\n",
      "5B89IGusnn7ALpum6QnA02\n",
      "4YLuaFFnWTJHu3tLiTPLRf\n",
      "5gMzdeAupiOHDo4H8GMK4c\n",
      "6UEJtAnGHnK5tVhoPHD6tU\n",
      "4ZsPPvNEpvqWinxqlI68m7\n",
      "5jayakmKQm7hDyoBhSoDKx\n",
      "2OnqLGs0xZvr8ZNzWJELGo\n",
      "6vseQZb17iPCXjCIzUkDAL\n",
      "4ZK4vl7z7dr1aTGRTlgvgB\n",
      "5kwAIpUBwhmiBpsJlcMgO1\n",
      "0BomfsUcw03fQPKK668Etn\n",
      " ------------------------ Fim ------------------------------\n"
     ]
    },
    {
     "name": "stderr",
     "output_type": "stream",
     "text": [
      "C:\\Users\\rodrigo.wasem\\AppData\\Local\\Temp\\ipykernel_20544\\906538478.py:22: FutureWarning: The default value of numeric_only in DataFrame.median is deprecated. In a future version, it will default to False. In addition, specifying 'numeric_only=None' is deprecated. Select only valid columns or specify the value of numeric_only to silence this warning.\n",
      "  df_result_drop_columns.fillna(df_result_drop_columns.median(), inplace=True)\n"
     ]
    }
   ],
   "source": [
    "result_final_audio_features = []\n",
    "\n",
    "for idx, music in df_spotify_dataset_users_tracks_result.iterrows():\n",
    "    #print(music)\n",
    "    results = sp.search(q='track:' + music[\"trackname\"] + ' artist:' + music[\"artistname\"], type='track')\n",
    "    #print(results)\n",
    "    track = results['tracks']['items']\n",
    "    if len(track) > 0:\n",
    "        if music[\"trackname\"] == track[0][\"name\"]:\n",
    "            print(track[0][\"id\"])\n",
    "            audio_features = sp.audio_features(tracks=[track[0][\"id\"]])\n",
    "            if audio_features[0] is not None:\n",
    "                audio_features[0][\"creation_date\"] = datetime.now()\n",
    "                result_final_audio_features += audio_features \n",
    "    \n",
    "jsonStr = json.dumps(result_final_audio_features, default=str)\n",
    "#print(jsonStr)\n",
    "df = pd.read_json(jsonStr)\n",
    "\n",
    "df_result_drop_columns = df.drop([\"type\", \"uri\", \"track_href\", \"analysis_url\", \"duration_ms\", \"time_signature\"], axis= 1)\n",
    "\n",
    "df_result_drop_columns.fillna(df_result_drop_columns.median(), inplace=True)\n",
    "\n",
    "df_result_drop_columns.to_csv('excel_features_' + id_user + '_.csv')\n",
    "\n",
    "print(\" ------------------------ Fim ------------------------------\")\n",
    "\n",
    "\n",
    "    "
   ]
  },
  {
   "cell_type": "code",
   "execution_count": null,
   "id": "160186f8",
   "metadata": {},
   "outputs": [],
   "source": []
  },
  {
   "cell_type": "code",
   "execution_count": null,
   "id": "a8834f33",
   "metadata": {},
   "outputs": [],
   "source": []
  }
 ],
 "metadata": {
  "kernelspec": {
   "display_name": "Python 3 (ipykernel)",
   "language": "python",
   "name": "python3"
  },
  "language_info": {
   "codemirror_mode": {
    "name": "ipython",
    "version": 3
   },
   "file_extension": ".py",
   "mimetype": "text/x-python",
   "name": "python",
   "nbconvert_exporter": "python",
   "pygments_lexer": "ipython3",
   "version": "3.10.6"
  }
 },
 "nbformat": 4,
 "nbformat_minor": 5
}
