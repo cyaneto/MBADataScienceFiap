{
 "cells": [
  {
   "cell_type": "code",
   "execution_count": 2,
   "id": "9215df9e",
   "metadata": {},
   "outputs": [],
   "source": [
    "# Importando as bibliotecas necessárias\n",
    "import pandas as pd\n",
    "from sklearn.ensemble import RandomForestClassifier\n",
    "from sklearn.ensemble import GradientBoostingClassifier\n",
    "from sklearn.metrics import accuracy_score, precision_score, confusion_matrix, matthews_corrcoef\n",
    "from sklearn.model_selection import train_test_split"
   ]
  },
  {
   "cell_type": "code",
   "execution_count": 3,
   "id": "a51d35f7",
   "metadata": {},
   "outputs": [],
   "source": [
    "# Lendo a planilha com o pandas\n",
    "df = pd.read_excel('excel_generos_1_72_.xlsx')\n",
    "\n",
    "# definimos quais vão ser as colunas que vamos avaliar\n",
    "variables = [\"danceability\",\n",
    "             \"energy\", \n",
    "             \"key\", \n",
    "             \"loudness\", \n",
    "             \"mode\", \n",
    "             \"speechiness\", \n",
    "             \"acousticness\", \n",
    "             \"instrumentalness\", \n",
    "             \"liveness\",\n",
    "             \"valence\"\n",
    "            ]\n",
    "\n",
    "X = df[variables]\n",
    "y = df[\"category_id\"]"
   ]
  },
  {
   "cell_type": "code",
   "execution_count": 4,
   "id": "3df37730",
   "metadata": {},
   "outputs": [],
   "source": [
    "X_train, X_test, y_train, y_test = train_test_split(X, y, test_size = 0.1)"
   ]
  },
  {
   "cell_type": "code",
   "execution_count": 5,
   "id": "b78832dc",
   "metadata": {},
   "outputs": [
    {
     "name": "stdout",
     "output_type": "stream",
     "text": [
      "Acurácia: 31.947958077340076\n",
      "Precisão: 31.947958077340076\n",
      "Matriz de confusão:\n",
      "[[ 5  0  0 ...  0  0  7]\n",
      " [ 1 10  1 ...  0  0  0]\n",
      " [ 0  0 12 ...  0  0  0]\n",
      " ...\n",
      " [ 0  0  0 ...  5  5  0]\n",
      " [ 0  0  0 ...  1 20  0]\n",
      " [ 8  0  1 ...  0  0  3]]\n",
      "MCC: 30.974005419387566\n",
      "Taxa de erro: -30.947958077340076\n"
     ]
    }
   ],
   "source": [
    "# Início Random Forest\n",
    "# Criando o modelo de Random Forest\n",
    "rf = RandomForestClassifier(n_estimators = 500)\n",
    "\n",
    "# Treinando o modelo\n",
    "rf.fit(X_train, y_train)\n",
    "\n",
    "# Fazendo previsões com o modelo treinado\n",
    "y_pred = rf.predict(X_test)\n",
    "\n",
    "# Avaliando o modelo\n",
    "accuracy = accuracy_score(y_test, y_pred) * 100\n",
    "precision = precision_score(y_test, y_pred, average='micro') * 100\n",
    "confusion = confusion_matrix(y_test, y_pred)\n",
    "mcc = matthews_corrcoef(y_test, y_pred) * 100\n",
    "error_rate = 1 - accuracy\n",
    "\n",
    "print('Acurácia:', accuracy)\n",
    "print('Precisão:', precision)\n",
    "print('Matriz de confusão:')\n",
    "print(confusion)\n",
    "print('MCC:', mcc)\n",
    "print('Taxa de erro:', error_rate)\n",
    "\n",
    "# Fim Random Forest"
   ]
  },
  {
   "cell_type": "code",
   "execution_count": 9,
   "id": "48271bcb",
   "metadata": {},
   "outputs": [
    {
     "name": "stderr",
     "output_type": "stream",
     "text": [
      "C:\\Users\\rodrigo.wasem\\Anaconda3\\lib\\site-packages\\sklearn\\base.py:450: UserWarning: X does not have valid feature names, but RandomForestClassifier was fitted with feature names\n",
      "  warnings.warn(\n",
      "C:\\Users\\rodrigo.wasem\\Anaconda3\\lib\\site-packages\\sklearn\\base.py:450: UserWarning: X does not have valid feature names, but RandomForestClassifier was fitted with feature names\n",
      "  warnings.warn(\n",
      "C:\\Users\\rodrigo.wasem\\Anaconda3\\lib\\site-packages\\sklearn\\base.py:450: UserWarning: X does not have valid feature names, but RandomForestClassifier was fitted with feature names\n",
      "  warnings.warn(\n",
      "C:\\Users\\rodrigo.wasem\\Anaconda3\\lib\\site-packages\\sklearn\\base.py:450: UserWarning: X does not have valid feature names, but RandomForestClassifier was fitted with feature names\n",
      "  warnings.warn(\n",
      "C:\\Users\\rodrigo.wasem\\Anaconda3\\lib\\site-packages\\sklearn\\base.py:450: UserWarning: X does not have valid feature names, but RandomForestClassifier was fitted with feature names\n",
      "  warnings.warn(\n"
     ]
    },
    {
     "name": "stdout",
     "output_type": "stream",
     "text": [
      "[16]\n",
      "[23]\n",
      "[28]\n",
      "[36]\n",
      "[48]\n",
      "[48]\n",
      "[40]\n"
     ]
    },
    {
     "name": "stderr",
     "output_type": "stream",
     "text": [
      "C:\\Users\\rodrigo.wasem\\Anaconda3\\lib\\site-packages\\sklearn\\base.py:450: UserWarning: X does not have valid feature names, but RandomForestClassifier was fitted with feature names\n",
      "  warnings.warn(\n",
      "C:\\Users\\rodrigo.wasem\\Anaconda3\\lib\\site-packages\\sklearn\\base.py:450: UserWarning: X does not have valid feature names, but RandomForestClassifier was fitted with feature names\n",
      "  warnings.warn(\n"
     ]
    }
   ],
   "source": [
    "#testes de músicas com features que existem na base\n",
    "\n",
    "# 16\n",
    "print(rf.predict([[0.818, 0.913, 4, -3.06, 0, 0.0426, 0.093, 0.0000369, 0.161, 0.536]]))\n",
    "\n",
    "#23\n",
    "print(rf.predict([[0.567, 0.371, 7, -10.779, 0, 0.0265, 0.773, 0, 0.114, 0.461]]))\n",
    "\n",
    "# 28\n",
    "print(rf.predict([[0.335, 0.0146, 4, -23.818, 0, 0.0441, 0.995, 0.883, 0.0838, 0.0754]]))\n",
    "\n",
    "# 36\n",
    "print(rf.predict([[0.765, 0.539, 5, -6.645, 0, 0.0638, 0.466, 0.0124, 0.195, 0.671]]))\n",
    "\n",
    "#48\n",
    "print(rf.predict([[0.344, 0.9, 10, -5.997, 1, 0.158, 0.000229, 0.000965, 0.316, 0.251]]))\n",
    "\n",
    "print(rf.predict([[0.345, 0.9, 11, -5.998, 2, 0.159, 0.000230, 0.000966, 0.317, 0.252]]))\n",
    "\n",
    "#Teste de múscia que não existe na base\n",
    "\n",
    "# aleatória criada por mim\n",
    "print(rf.predict([[0.1800, 0.500, 2, -3.047, 0, 0.0539, 0.730, 0, 0.761, 200]]))"
   ]
  },
  {
   "cell_type": "code",
   "execution_count": 105,
   "id": "82386f76",
   "metadata": {},
   "outputs": [],
   "source": [
    "# Lendo a planilha com dados de quais múscias os users ouviram\n",
    "df_spotify_dataset_users_tracks = pd.read_csv('excel_features_156fd148c44f2bce755b09bf95985ee8_.csv', on_bad_lines='skip')"
   ]
  },
  {
   "cell_type": "code",
   "execution_count": 109,
   "id": "82961c7d",
   "metadata": {},
   "outputs": [
    {
     "name": "stdout",
     "output_type": "stream",
     "text": [
      "0WZVGXO8FYpK8v1IDxlOyE\n",
      "[7]\n",
      "--------------\n",
      "00cxhG668jV6gU6VK2FUVI\n",
      "[7]\n",
      "--------------\n",
      "4eDYMhIin1pSLIG96f1aD0\n",
      "[7]\n",
      "--------------\n",
      "40qjDdULzkFRlivTqTggLH\n",
      "[7]\n",
      "--------------\n",
      "2SHnUyZq0zwmvRIl4WY77G\n",
      "[7]\n",
      "--------------\n",
      "2sduRP2wX0dG7waoyGPOGf\n"
     ]
    },
    {
     "name": "stderr",
     "output_type": "stream",
     "text": [
      "C:\\Users\\rodrigo.wasem\\Anaconda3\\lib\\site-packages\\sklearn\\base.py:450: UserWarning: X does not have valid feature names, but RandomForestClassifier was fitted with feature names\n",
      "  warnings.warn(\n",
      "C:\\Users\\rodrigo.wasem\\Anaconda3\\lib\\site-packages\\sklearn\\base.py:450: UserWarning: X does not have valid feature names, but RandomForestClassifier was fitted with feature names\n",
      "  warnings.warn(\n",
      "C:\\Users\\rodrigo.wasem\\Anaconda3\\lib\\site-packages\\sklearn\\base.py:450: UserWarning: X does not have valid feature names, but RandomForestClassifier was fitted with feature names\n",
      "  warnings.warn(\n",
      "C:\\Users\\rodrigo.wasem\\Anaconda3\\lib\\site-packages\\sklearn\\base.py:450: UserWarning: X does not have valid feature names, but RandomForestClassifier was fitted with feature names\n",
      "  warnings.warn(\n",
      "C:\\Users\\rodrigo.wasem\\Anaconda3\\lib\\site-packages\\sklearn\\base.py:450: UserWarning: X does not have valid feature names, but RandomForestClassifier was fitted with feature names\n",
      "  warnings.warn(\n",
      "C:\\Users\\rodrigo.wasem\\Anaconda3\\lib\\site-packages\\sklearn\\base.py:450: UserWarning: X does not have valid feature names, but RandomForestClassifier was fitted with feature names\n",
      "  warnings.warn(\n"
     ]
    },
    {
     "name": "stdout",
     "output_type": "stream",
     "text": [
      "[4]\n",
      "--------------\n",
      "1xMLthTaWJieT9YGV1hyS5\n",
      "[7]\n",
      "--------------\n",
      "1gNDbq3ufi6VZJJuQWJiPe\n",
      "[7]\n",
      "--------------\n",
      "1u6LOWtdWA2wwa3CryIBsS\n",
      "[7]\n",
      "--------------\n",
      "2ee46eHIDrDT28dQWAhr21\n",
      "[7]\n",
      "--------------\n",
      "5FU5b1b0hVR016VdeJcYRd\n",
      "[7]\n",
      "--------------\n",
      "0yrKF6Fj0dxkltqmBMvcQU\n",
      "[7]\n",
      "--------------\n",
      "6PtXobrqImYfnpIxNsJApa\n",
      "[7]\n",
      "--------------\n",
      "6VRhkROS2SZHGlp0pxndbJ\n"
     ]
    },
    {
     "name": "stderr",
     "output_type": "stream",
     "text": [
      "C:\\Users\\rodrigo.wasem\\Anaconda3\\lib\\site-packages\\sklearn\\base.py:450: UserWarning: X does not have valid feature names, but RandomForestClassifier was fitted with feature names\n",
      "  warnings.warn(\n",
      "C:\\Users\\rodrigo.wasem\\Anaconda3\\lib\\site-packages\\sklearn\\base.py:450: UserWarning: X does not have valid feature names, but RandomForestClassifier was fitted with feature names\n",
      "  warnings.warn(\n",
      "C:\\Users\\rodrigo.wasem\\Anaconda3\\lib\\site-packages\\sklearn\\base.py:450: UserWarning: X does not have valid feature names, but RandomForestClassifier was fitted with feature names\n",
      "  warnings.warn(\n",
      "C:\\Users\\rodrigo.wasem\\Anaconda3\\lib\\site-packages\\sklearn\\base.py:450: UserWarning: X does not have valid feature names, but RandomForestClassifier was fitted with feature names\n",
      "  warnings.warn(\n",
      "C:\\Users\\rodrigo.wasem\\Anaconda3\\lib\\site-packages\\sklearn\\base.py:450: UserWarning: X does not have valid feature names, but RandomForestClassifier was fitted with feature names\n",
      "  warnings.warn(\n",
      "C:\\Users\\rodrigo.wasem\\Anaconda3\\lib\\site-packages\\sklearn\\base.py:450: UserWarning: X does not have valid feature names, but RandomForestClassifier was fitted with feature names\n",
      "  warnings.warn(\n",
      "C:\\Users\\rodrigo.wasem\\Anaconda3\\lib\\site-packages\\sklearn\\base.py:450: UserWarning: X does not have valid feature names, but RandomForestClassifier was fitted with feature names\n",
      "  warnings.warn(\n",
      "C:\\Users\\rodrigo.wasem\\Anaconda3\\lib\\site-packages\\sklearn\\base.py:450: UserWarning: X does not have valid feature names, but RandomForestClassifier was fitted with feature names\n",
      "  warnings.warn(\n"
     ]
    },
    {
     "name": "stdout",
     "output_type": "stream",
     "text": [
      "[4]\n",
      "--------------\n",
      "640AR2YmgcKoJpaqTnCE4R\n"
     ]
    },
    {
     "name": "stderr",
     "output_type": "stream",
     "text": [
      "C:\\Users\\rodrigo.wasem\\Anaconda3\\lib\\site-packages\\sklearn\\base.py:450: UserWarning: X does not have valid feature names, but RandomForestClassifier was fitted with feature names\n",
      "  warnings.warn(\n"
     ]
    },
    {
     "name": "stdout",
     "output_type": "stream",
     "text": [
      "[7]\n",
      "--------------\n",
      "22DnBQIIXFPJNRGuNjWlSg\n",
      "[7]\n",
      "--------------\n",
      "1SOfxwVz2KBMzatpfTHqIR\n",
      "[7]\n",
      "--------------\n",
      "3BHXrvIfVQwyjwOccHlyN7\n",
      "[6]\n",
      "--------------\n",
      "5PZI5xTcMq8FsCcEroth7S\n",
      "[7]\n",
      "--------------\n",
      "7xQYVjs4wZNdCwO0EeAWMC\n",
      "[7]\n",
      "--------------\n",
      "6fdHO3OJsu1Lwq0XSFmVCk\n",
      "[7]\n",
      "--------------\n",
      "1trC8L8YpawkU553ymy2zC\n",
      "[6]\n",
      "--------------\n",
      "4BSWjP0LLUv6rTBsUgjHUG\n",
      "[7]\n",
      "--------------\n",
      "18zQdV6BhfeoVU4OLnEO7p\n"
     ]
    },
    {
     "name": "stderr",
     "output_type": "stream",
     "text": [
      "C:\\Users\\rodrigo.wasem\\Anaconda3\\lib\\site-packages\\sklearn\\base.py:450: UserWarning: X does not have valid feature names, but RandomForestClassifier was fitted with feature names\n",
      "  warnings.warn(\n",
      "C:\\Users\\rodrigo.wasem\\Anaconda3\\lib\\site-packages\\sklearn\\base.py:450: UserWarning: X does not have valid feature names, but RandomForestClassifier was fitted with feature names\n",
      "  warnings.warn(\n",
      "C:\\Users\\rodrigo.wasem\\Anaconda3\\lib\\site-packages\\sklearn\\base.py:450: UserWarning: X does not have valid feature names, but RandomForestClassifier was fitted with feature names\n",
      "  warnings.warn(\n",
      "C:\\Users\\rodrigo.wasem\\Anaconda3\\lib\\site-packages\\sklearn\\base.py:450: UserWarning: X does not have valid feature names, but RandomForestClassifier was fitted with feature names\n",
      "  warnings.warn(\n",
      "C:\\Users\\rodrigo.wasem\\Anaconda3\\lib\\site-packages\\sklearn\\base.py:450: UserWarning: X does not have valid feature names, but RandomForestClassifier was fitted with feature names\n",
      "  warnings.warn(\n",
      "C:\\Users\\rodrigo.wasem\\Anaconda3\\lib\\site-packages\\sklearn\\base.py:450: UserWarning: X does not have valid feature names, but RandomForestClassifier was fitted with feature names\n",
      "  warnings.warn(\n",
      "C:\\Users\\rodrigo.wasem\\Anaconda3\\lib\\site-packages\\sklearn\\base.py:450: UserWarning: X does not have valid feature names, but RandomForestClassifier was fitted with feature names\n",
      "  warnings.warn(\n",
      "C:\\Users\\rodrigo.wasem\\Anaconda3\\lib\\site-packages\\sklearn\\base.py:450: UserWarning: X does not have valid feature names, but RandomForestClassifier was fitted with feature names\n",
      "  warnings.warn(\n",
      "C:\\Users\\rodrigo.wasem\\Anaconda3\\lib\\site-packages\\sklearn\\base.py:450: UserWarning: X does not have valid feature names, but RandomForestClassifier was fitted with feature names\n",
      "  warnings.warn(\n"
     ]
    },
    {
     "name": "stdout",
     "output_type": "stream",
     "text": [
      "[7]\n",
      "--------------\n",
      "2Tz46GlN7rb3xs2JHKJstD\n",
      "[7]\n",
      "--------------\n",
      "4wtR6HB3XekEengMX17cpc\n",
      "[7]\n",
      "--------------\n",
      "5DKHdWT3u5mOu3dm8A8P1V\n",
      "[7]\n",
      "--------------\n",
      "60wwxj6Dd9NJlirf84wr2c\n",
      "[6]\n",
      "--------------\n",
      "3bxtgzAeAZPdRtKoPL5GG2\n",
      "[7]\n",
      "--------------\n",
      "2ToIksTPpJ4csKPEOdUEyM\n",
      "[1]\n",
      "--------------\n",
      "3Tcs2zdJsXSSFxO6liZbkS\n",
      "[4]\n",
      "--------------\n",
      "5faJXkNwcNiY7qsIliiAfy\n"
     ]
    },
    {
     "name": "stderr",
     "output_type": "stream",
     "text": [
      "C:\\Users\\rodrigo.wasem\\Anaconda3\\lib\\site-packages\\sklearn\\base.py:450: UserWarning: X does not have valid feature names, but RandomForestClassifier was fitted with feature names\n",
      "  warnings.warn(\n",
      "C:\\Users\\rodrigo.wasem\\Anaconda3\\lib\\site-packages\\sklearn\\base.py:450: UserWarning: X does not have valid feature names, but RandomForestClassifier was fitted with feature names\n",
      "  warnings.warn(\n",
      "C:\\Users\\rodrigo.wasem\\Anaconda3\\lib\\site-packages\\sklearn\\base.py:450: UserWarning: X does not have valid feature names, but RandomForestClassifier was fitted with feature names\n",
      "  warnings.warn(\n",
      "C:\\Users\\rodrigo.wasem\\Anaconda3\\lib\\site-packages\\sklearn\\base.py:450: UserWarning: X does not have valid feature names, but RandomForestClassifier was fitted with feature names\n",
      "  warnings.warn(\n",
      "C:\\Users\\rodrigo.wasem\\Anaconda3\\lib\\site-packages\\sklearn\\base.py:450: UserWarning: X does not have valid feature names, but RandomForestClassifier was fitted with feature names\n",
      "  warnings.warn(\n",
      "C:\\Users\\rodrigo.wasem\\Anaconda3\\lib\\site-packages\\sklearn\\base.py:450: UserWarning: X does not have valid feature names, but RandomForestClassifier was fitted with feature names\n",
      "  warnings.warn(\n",
      "C:\\Users\\rodrigo.wasem\\Anaconda3\\lib\\site-packages\\sklearn\\base.py:450: UserWarning: X does not have valid feature names, but RandomForestClassifier was fitted with feature names\n",
      "  warnings.warn(\n",
      "C:\\Users\\rodrigo.wasem\\Anaconda3\\lib\\site-packages\\sklearn\\base.py:450: UserWarning: X does not have valid feature names, but RandomForestClassifier was fitted with feature names\n",
      "  warnings.warn(\n"
     ]
    },
    {
     "name": "stdout",
     "output_type": "stream",
     "text": [
      "[7]\n",
      "--------------\n",
      "7pqgMEKsDMOHUdFQ7n0N9K\n",
      "[1]\n",
      "--------------\n",
      "6YKnt1usFogwmxS6hYc5Jd\n",
      "[6]\n",
      "--------------\n",
      "1gEfBDVdhmcDtV1LPQazkN\n",
      "[7]\n",
      "--------------\n",
      "2VEZx7NWsZ1D0eJ4uv5Fym\n",
      "[7]\n",
      "--------------\n",
      "5aPjlZVzYFxXzO6VN9XzeL\n",
      "[7]\n",
      "--------------\n",
      "5B89IGusnn7ALpum6QnA02\n",
      "[2]\n",
      "--------------\n",
      "4YLuaFFnWTJHu3tLiTPLRf\n",
      "[7]\n",
      "--------------\n",
      "5gMzdeAupiOHDo4H8GMK4c\n",
      "[7]\n",
      "--------------\n",
      "6UEJtAnGHnK5tVhoPHD6tU\n"
     ]
    },
    {
     "name": "stderr",
     "output_type": "stream",
     "text": [
      "C:\\Users\\rodrigo.wasem\\Anaconda3\\lib\\site-packages\\sklearn\\base.py:450: UserWarning: X does not have valid feature names, but RandomForestClassifier was fitted with feature names\n",
      "  warnings.warn(\n",
      "C:\\Users\\rodrigo.wasem\\Anaconda3\\lib\\site-packages\\sklearn\\base.py:450: UserWarning: X does not have valid feature names, but RandomForestClassifier was fitted with feature names\n",
      "  warnings.warn(\n",
      "C:\\Users\\rodrigo.wasem\\Anaconda3\\lib\\site-packages\\sklearn\\base.py:450: UserWarning: X does not have valid feature names, but RandomForestClassifier was fitted with feature names\n",
      "  warnings.warn(\n",
      "C:\\Users\\rodrigo.wasem\\Anaconda3\\lib\\site-packages\\sklearn\\base.py:450: UserWarning: X does not have valid feature names, but RandomForestClassifier was fitted with feature names\n",
      "  warnings.warn(\n",
      "C:\\Users\\rodrigo.wasem\\Anaconda3\\lib\\site-packages\\sklearn\\base.py:450: UserWarning: X does not have valid feature names, but RandomForestClassifier was fitted with feature names\n",
      "  warnings.warn(\n",
      "C:\\Users\\rodrigo.wasem\\Anaconda3\\lib\\site-packages\\sklearn\\base.py:450: UserWarning: X does not have valid feature names, but RandomForestClassifier was fitted with feature names\n",
      "  warnings.warn(\n",
      "C:\\Users\\rodrigo.wasem\\Anaconda3\\lib\\site-packages\\sklearn\\base.py:450: UserWarning: X does not have valid feature names, but RandomForestClassifier was fitted with feature names\n",
      "  warnings.warn(\n",
      "C:\\Users\\rodrigo.wasem\\Anaconda3\\lib\\site-packages\\sklearn\\base.py:450: UserWarning: X does not have valid feature names, but RandomForestClassifier was fitted with feature names\n",
      "  warnings.warn(\n",
      "C:\\Users\\rodrigo.wasem\\Anaconda3\\lib\\site-packages\\sklearn\\base.py:450: UserWarning: X does not have valid feature names, but RandomForestClassifier was fitted with feature names\n",
      "  warnings.warn(\n"
     ]
    },
    {
     "name": "stdout",
     "output_type": "stream",
     "text": [
      "[4]\n",
      "--------------\n",
      "4ZsPPvNEpvqWinxqlI68m7\n",
      "[7]\n",
      "--------------\n",
      "5jayakmKQm7hDyoBhSoDKx\n",
      "[7]\n",
      "--------------\n",
      "2OnqLGs0xZvr8ZNzWJELGo\n",
      "[7]\n",
      "--------------\n",
      "6vseQZb17iPCXjCIzUkDAL\n",
      "[7]\n",
      "--------------\n",
      "4ZK4vl7z7dr1aTGRTlgvgB\n",
      "[7]\n",
      "--------------\n",
      "5kwAIpUBwhmiBpsJlcMgO1\n",
      "[7]\n",
      "--------------\n",
      "0BomfsUcw03fQPKK668Etn\n",
      "[6]\n",
      "--------------\n"
     ]
    },
    {
     "name": "stderr",
     "output_type": "stream",
     "text": [
      "C:\\Users\\rodrigo.wasem\\Anaconda3\\lib\\site-packages\\sklearn\\base.py:450: UserWarning: X does not have valid feature names, but RandomForestClassifier was fitted with feature names\n",
      "  warnings.warn(\n",
      "C:\\Users\\rodrigo.wasem\\Anaconda3\\lib\\site-packages\\sklearn\\base.py:450: UserWarning: X does not have valid feature names, but RandomForestClassifier was fitted with feature names\n",
      "  warnings.warn(\n",
      "C:\\Users\\rodrigo.wasem\\Anaconda3\\lib\\site-packages\\sklearn\\base.py:450: UserWarning: X does not have valid feature names, but RandomForestClassifier was fitted with feature names\n",
      "  warnings.warn(\n",
      "C:\\Users\\rodrigo.wasem\\Anaconda3\\lib\\site-packages\\sklearn\\base.py:450: UserWarning: X does not have valid feature names, but RandomForestClassifier was fitted with feature names\n",
      "  warnings.warn(\n",
      "C:\\Users\\rodrigo.wasem\\Anaconda3\\lib\\site-packages\\sklearn\\base.py:450: UserWarning: X does not have valid feature names, but RandomForestClassifier was fitted with feature names\n",
      "  warnings.warn(\n",
      "C:\\Users\\rodrigo.wasem\\Anaconda3\\lib\\site-packages\\sklearn\\base.py:450: UserWarning: X does not have valid feature names, but RandomForestClassifier was fitted with feature names\n",
      "  warnings.warn(\n",
      "C:\\Users\\rodrigo.wasem\\Anaconda3\\lib\\site-packages\\sklearn\\base.py:450: UserWarning: X does not have valid feature names, but RandomForestClassifier was fitted with feature names\n",
      "  warnings.warn(\n"
     ]
    }
   ],
   "source": [
    "for idx, music in df_spotify_dataset_users_tracks.iterrows():\n",
    "    print(music[\"id\"])\n",
    "    print(rf.predict([[music[\"danceability\"], \n",
    "                       music[\"energy\"], \n",
    "                       music[\"key\"], \n",
    "                       music[\"loudness\"], \n",
    "                       music[\"mode\"],\n",
    "                       music[\"speechiness\"],\n",
    "                       music[\"acousticness\"], \n",
    "                       music[\"instrumentalness\"], \n",
    "                       music[\"liveness\"], \n",
    "                       music[\"valence\"]]]))\n",
    "    print(\"--------------\")"
   ]
  },
  {
   "cell_type": "code",
   "execution_count": 103,
   "id": "ccefc3a8",
   "metadata": {},
   "outputs": [
    {
     "name": "stdout",
     "output_type": "stream",
     "text": [
      "                                 user_id  \"artistname\"  \\\n",
      "350375  c6af8cb99f488aa2def073d68c7da58c  Tye Tribbett   \n",
      "350376  c6af8cb99f488aa2def073d68c7da58c         Elena   \n",
      "\n",
      "                   \"trackname\"    \"playlistname\"  \n",
      "350375                Champion  Liked from Radio  \n",
      "350376  Hot Girls - Radio Edit  Liked from Radio  \n"
     ]
    }
   ],
   "source": []
  },
  {
   "cell_type": "code",
   "execution_count": 104,
   "id": "26268f0a",
   "metadata": {},
   "outputs": [
    {
     "name": "stdout",
     "output_type": "stream",
     "text": [
      "2\n"
     ]
    }
   ],
   "source": []
  },
  {
   "cell_type": "code",
   "execution_count": null,
   "id": "282deb14",
   "metadata": {},
   "outputs": [],
   "source": []
  }
 ],
 "metadata": {
  "kernelspec": {
   "display_name": "Python 3 (ipykernel)",
   "language": "python",
   "name": "python3"
  },
  "language_info": {
   "codemirror_mode": {
    "name": "ipython",
    "version": 3
   },
   "file_extension": ".py",
   "mimetype": "text/x-python",
   "name": "python",
   "nbconvert_exporter": "python",
   "pygments_lexer": "ipython3",
   "version": "3.9.13"
  }
 },
 "nbformat": 4,
 "nbformat_minor": 5
}
